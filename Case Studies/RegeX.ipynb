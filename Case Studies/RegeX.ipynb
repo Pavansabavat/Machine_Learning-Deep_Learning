{
 "cells": [
  {
   "cell_type": "markdown",
   "id": "d68e680b",
   "metadata": {},
   "source": [
    "\n",
    "### Regular Expressions\n",
    "\n",
    "      Try to solve all the interactive tutorial from below mentioned website:\n",
    "\n",
    "  ### https://regexone.com/lesson/introduction_abcs\n",
    "\n",
    "  ### https://regex101.com\n"
   ]
  },
  {
   "cell_type": "markdown",
   "id": "22987855",
   "metadata": {},
   "source": [
    "## re.findall"
   ]
  },
  {
   "cell_type": "code",
   "execution_count": 2,
   "id": "c77aa62b",
   "metadata": {},
   "outputs": [
    {
     "name": "stdout",
     "output_type": "stream",
     "text": [
      "['0', '2', '9', '1']\n"
     ]
    }
   ],
   "source": [
    "import re\n",
    "\n",
    "lst = re.findall('[0-9]', '0@kM29-1')\n",
    "\n",
    "print(lst)"
   ]
  },
  {
   "cell_type": "code",
   "execution_count": 3,
   "id": "a3ffcaa6",
   "metadata": {},
   "outputs": [
    {
     "name": "stdout",
     "output_type": "stream",
     "text": [
      "<callable_iterator object at 0x00000288121B70A0>\n",
      "0\n",
      "2\n",
      "9\n",
      "1\n"
     ]
    }
   ],
   "source": [
    "import re\n",
    "\n",
    "matcher = re.finditer('[0-9]', '0@kM29-1')\n",
    "\n",
    "print(matcher)\n",
    "\n",
    "for m in matcher:\n",
    "    print(m.group())"
   ]
  },
  {
   "cell_type": "code",
   "execution_count": 4,
   "id": "0e48f6c5",
   "metadata": {},
   "outputs": [
    {
     "name": "stdout",
     "output_type": "stream",
     "text": [
      "{'4', '2', '3', '5', '1'}\n"
     ]
    }
   ],
   "source": [
    "targetString = 'aif ajahf abf hbahfvajdvf aaf1231231321 123 123 123 123134253 4'\n",
    "\n",
    "regex = '\\d'\n",
    "\n",
    "lst = re.findall(regex, targetString)\n",
    "\n",
    "print(set(lst))\n",
    "\n",
    "# ['a', 'd', 'c']\n",
    "# adc"
   ]
  },
  {
   "cell_type": "markdown",
   "id": "816ea135",
   "metadata": {},
   "source": [
    "## Search Replace"
   ]
  },
  {
   "cell_type": "code",
   "execution_count": 5,
   "id": "8c18ceb8",
   "metadata": {},
   "outputs": [
    {
     "name": "stdout",
     "output_type": "stream",
     "text": [
      "a#b#j#k#h#\n"
     ]
    }
   ],
   "source": [
    "# re.sub(pattern, replacement, targetString)\n",
    "\n",
    "import re\n",
    "\n",
    "s = re.sub('\\d', '#', 'a7b6j9k2h4')\n",
    "\n",
    "print(s)"
   ]
  },
  {
   "cell_type": "code",
   "execution_count": 6,
   "id": "53a31b9e",
   "metadata": {},
   "outputs": [
    {
     "name": "stdout",
     "output_type": "stream",
     "text": [
      "Phone num:  1233-123-345 # This is a phone\n",
      "Phone num:  1233-123-345 \n",
      "Phone num:  1233123345\n"
     ]
    }
   ],
   "source": [
    "# re.sub(regex, replacement, targetString)\n",
    "\n",
    "import re\n",
    "\n",
    "phone = '1233-123-345 # This is a phone'\n",
    "\n",
    "print('Phone num: ', phone)\n",
    "\n",
    "num = re.sub('#.*$', '', phone)\n",
    "\n",
    "print('Phone num: ',num)\n",
    "\n",
    "num = re.sub('\\D', '', phone)\n",
    "\n",
    "print('Phone num: ', num)"
   ]
  },
  {
   "cell_type": "markdown",
   "id": "40634c9d",
   "metadata": {},
   "source": [
    "### re.split"
   ]
  },
  {
   "cell_type": "code",
   "execution_count": 7,
   "id": "453d8819",
   "metadata": {},
   "outputs": [
    {
     "name": "stdout",
     "output_type": "stream",
     "text": [
      "['I', 'Learn', 'Python', 'Regex']\n"
     ]
    }
   ],
   "source": [
    "import re\n",
    "\n",
    "l = re.split('-', 'I-Learn-Python-Regex')\n",
    "\n",
    "print(l)"
   ]
  },
  {
   "cell_type": "code",
   "execution_count": 8,
   "id": "f369e396",
   "metadata": {},
   "outputs": [
    {
     "name": "stdout",
     "output_type": "stream",
     "text": [
      "['abcdefg', 'gmail', 'com']\n"
     ]
    }
   ],
   "source": [
    "import re\n",
    "\n",
    "l = re.split('\\W', 'abcdefg@gmail.com')\n",
    "\n",
    "print(l)"
   ]
  },
  {
   "cell_type": "code",
   "execution_count": 9,
   "id": "88fd637e",
   "metadata": {},
   "outputs": [
    {
     "name": "stdout",
     "output_type": "stream",
     "text": [
      "['www', 'facebook', 'com']\n"
     ]
    }
   ],
   "source": [
    "\n",
    "\n",
    "import re\n",
    "\n",
    "l = re.split('[.]', 'www.facebook.com')\n",
    "\n",
    "print(l)"
   ]
  },
  {
   "cell_type": "markdown",
   "id": "172ba4e3",
   "metadata": {},
   "source": [
    "### Step by Step creating RegEx\n",
    "\n",
    "#### STEP-1 : Create pattern object\n"
   ]
  },
  {
   "cell_type": "code",
   "execution_count": 17,
   "id": "4c3d285a",
   "metadata": {},
   "outputs": [
    {
     "name": "stdout",
     "output_type": "stream",
     "text": [
      "<class 're.Pattern'>\n"
     ]
    }
   ],
   "source": [
    "\n",
    "\n",
    "# compile() -> convert the pattern into regex object\n",
    "\n",
    "import re\n",
    "\n",
    "pattern = re.compile('Python')\n",
    "\n",
    "print(type(pattern))\n",
    "\n"
   ]
  },
  {
   "cell_type": "markdown",
   "id": "140d956d",
   "metadata": {},
   "source": [
    "### STEP-2 : Create Matcher object\n"
   ]
  },
  {
   "cell_type": "code",
   "execution_count": 18,
   "id": "8dc8a8b8",
   "metadata": {},
   "outputs": [
    {
     "name": "stdout",
     "output_type": "stream",
     "text": [
      "<class 'callable_iterator'>\n"
     ]
    }
   ],
   "source": [
    "\n",
    "\n",
    "# finditer() -> we can check how many matcher are available\n",
    "\n",
    "matcher = pattern.finditer('I Python am learning python Regex in Python!')\n",
    "\n",
    "print(type(matcher))\n",
    "\n"
   ]
  },
  {
   "cell_type": "markdown",
   "id": "4f2558ba",
   "metadata": {},
   "source": [
    "## STEP-3 : Iterate over the Matcher\n"
   ]
  },
  {
   "cell_type": "code",
   "execution_count": 19,
   "id": "1934ed58",
   "metadata": {},
   "outputs": [
    {
     "name": "stdout",
     "output_type": "stream",
     "text": [
      "<class 're.Match'>\n",
      "Match is at:2, End:8, Pattern found: Python\n",
      "<class 're.Match'>\n",
      "Match is at:37, End:43, Pattern found: Python\n",
      "DONE!!\n"
     ]
    }
   ],
   "source": [
    "\n",
    "\n",
    "# start() -> starting index of matched string\n",
    "# end() -> end+1 index\n",
    "# group() -> returns matched sring\n",
    "\n",
    "for m in matcher:\n",
    "    print(type(m))\n",
    "    print('Match is at:{}, End:{}, Pattern found: {}'.\n",
    "          format(m.start(), m.end(), m.group()))\n",
    "print('DONE!!')\n",
    "\n"
   ]
  },
  {
   "cell_type": "markdown",
   "id": "79c9c751",
   "metadata": {},
   "source": [
    "### Using Various Combinations\n"
   ]
  },
  {
   "cell_type": "code",
   "execution_count": 20,
   "id": "3ab52405",
   "metadata": {},
   "outputs": [
    {
     "name": "stdout",
     "output_type": "stream",
     "text": [
      "ab 0 2\n",
      "ab 3 5\n",
      "ab 5 7\n"
     ]
    }
   ],
   "source": [
    "\n",
    "\n",
    "# Pattern = 'ab'\n",
    "# Target = 'abaababa'\n",
    "# Way - 1\n",
    "\n",
    "import re\n",
    "\n",
    "pattern = re.compile('ab')\n",
    "\n",
    "matcher = pattern.finditer('abaababa')\n",
    "\n",
    "for m in matcher:\n",
    "    print(m.group(), m.start(), m.end())\n",
    "\n"
   ]
  },
  {
   "cell_type": "code",
   "execution_count": 21,
   "id": "8eb54512",
   "metadata": {},
   "outputs": [
    {
     "name": "stdout",
     "output_type": "stream",
     "text": [
      "ab 0 2\n",
      "ab 3 5\n",
      "ab 5 7\n"
     ]
    }
   ],
   "source": [
    "\n",
    "\n",
    "# Way - 2\n",
    "\n",
    "import re\n",
    "\n",
    "matcher = re.compile('ab').finditer('abaababa')\n",
    "\n",
    "for m in matcher:\n",
    "    print(m.group(), m.start(), m.end())\n",
    "\n"
   ]
  },
  {
   "cell_type": "code",
   "execution_count": 22,
   "id": "494e7ef7",
   "metadata": {},
   "outputs": [
    {
     "name": "stdout",
     "output_type": "stream",
     "text": [
      "aaaaa 0 5\n",
      "aaa 11 14\n",
      "aa 21 23\n",
      "a 30 31\n"
     ]
    }
   ],
   "source": [
    "\n",
    "\n",
    "# Way - 3\n",
    "# re.finditer(pattern, target)\n",
    "\n",
    "import re\n",
    "\n",
    "matcher = re.finditer('a+', 'aaaaabbcdegaaabdfgfdgaabjukilua')\n",
    "\n",
    "for m in matcher:\n",
    "    print(m.group(), m.start(), m.end())\n",
    "\n"
   ]
  },
  {
   "cell_type": "code",
   "execution_count": 23,
   "id": "3c895484",
   "metadata": {},
   "outputs": [
    {
     "name": "stdout",
     "output_type": "stream",
     "text": [
      "Match is at:0, End:2, Pattern found: ab\n",
      "Match is at:3, End:5, Pattern found: ab\n",
      "Match is at:5, End:7, Pattern found: ab\n",
      "Total count:  3\n"
     ]
    }
   ],
   "source": [
    "import re\n",
    "\n",
    "matcher = re.finditer('ab', 'abaababa')\n",
    "\n",
    "count = 0\n",
    "\n",
    "for m in matcher:\n",
    "    count += 1\n",
    "    print('Match is at:{}, End:{}, Pattern found: {}'.format(m.start(), m.end(), m.group()))\n",
    "print('Total count: ',count)"
   ]
  },
  {
   "cell_type": "code",
   "execution_count": 24,
   "id": "a74acadf",
   "metadata": {},
   "outputs": [
    {
     "name": "stdout",
     "output_type": "stream",
     "text": [
      "Match is at:1, End:3, Pattern found: ba\n",
      "Match is at:4, End:6, Pattern found: ba\n",
      "Match is at:6, End:8, Pattern found: ba\n",
      "Total count:  3\n"
     ]
    }
   ],
   "source": [
    "matcher = re.finditer('ba', 'abaababa')\n",
    "\n",
    "count = 0\n",
    "\n",
    "for m in matcher:\n",
    "    count += 1\n",
    "    print('Match is at:{}, End:{}, Pattern found: {}'.format(m.start(), m.end(), m.group()))\n",
    "print('Total count: ',count)"
   ]
  },
  {
   "cell_type": "code",
   "execution_count": 25,
   "id": "59635d94",
   "metadata": {},
   "outputs": [
    {
     "name": "stdout",
     "output_type": "stream",
     "text": [
      "<class 'list'>\n",
      "<class 'int'>\n",
      "<class 'float'>\n",
      "<class 'str'>\n",
      "<class 'bool'>\n"
     ]
    }
   ],
   "source": [
    "lst = [1, 2.0, '3', True]\n",
    "\n",
    "print(type(lst))\n",
    "\n",
    "for i in lst:\n",
    "    print(type(i))"
   ]
  },
  {
   "cell_type": "code",
   "execution_count": 26,
   "id": "0847fefd",
   "metadata": {},
   "outputs": [
    {
     "name": "stdout",
     "output_type": "stream",
     "text": [
      "<class 'callable_iterator'>\n",
      "an 1 3\n",
      "<class 're.Match'>\n",
      "an 7 9\n",
      "<class 're.Match'>\n"
     ]
    }
   ],
   "source": [
    "\n",
    "\n",
    "matcher = re.finditer('an', 'Kanav Bansal')\n",
    "\n",
    "print(type(matcher))\n",
    "\n",
    "for m in matcher:\n",
    "    print(m.group(), m.start(), m.end())\n",
    "    print(type(m))\n",
    "\n"
   ]
  },
  {
   "cell_type": "code",
   "execution_count": 27,
   "id": "fc7dcc24",
   "metadata": {},
   "outputs": [
    {
     "name": "stdout",
     "output_type": "stream",
     "text": [
      "Match is at: 0, End: 1, Pattern found: a\n",
      "Match is at: 2, End: 3, Pattern found: b\n",
      "Total count:  2\n"
     ]
    }
   ],
   "source": [
    "\n",
    "\n",
    "matcher = re.finditer('[abc]', 'a7b@ k9z')\n",
    "\n",
    "count = 0\n",
    "\n",
    "for m in matcher:\n",
    "    count += 1\n",
    "    print('Match is at: {}, End: {}, Pattern found: {}'.format(m.start(), m.end(), m.group()))\n",
    "print('Total count: ',count)\n",
    "\n"
   ]
  },
  {
   "cell_type": "code",
   "execution_count": 28,
   "id": "2e4372ef",
   "metadata": {},
   "outputs": [
    {
     "name": "stdout",
     "output_type": "stream",
     "text": [
      "Match is at: 0, End: 1, Pattern found: a\n",
      "Match is at: 2, End: 3, Pattern found: b\n",
      "Match is at: 5, End: 6, Pattern found: k\n",
      "Match is at: 7, End: 8, Pattern found: z\n",
      "Total count:  4\n"
     ]
    }
   ],
   "source": [
    "\n",
    "\n",
    "matcher = re.finditer('[a-z]', 'a7b@ k9z')\n",
    "\n",
    "count = 0\n",
    "\n",
    "for m in matcher:\n",
    "    count += 1\n",
    "    print('Match is at: {}, End: {}, Pattern found: {}'.format(m.start(), m.end(), m.group()))\n",
    "print('Total count: ',count)\n",
    "\n"
   ]
  },
  {
   "cell_type": "code",
   "execution_count": 29,
   "id": "cc8c0a87",
   "metadata": {},
   "outputs": [
    {
     "name": "stdout",
     "output_type": "stream",
     "text": [
      "Match is at: 1, End: 2, Pattern found: 7\n",
      "Match is at: 3, End: 4, Pattern found: @\n",
      "Match is at: 4, End: 5, Pattern found:  \n",
      "Match is at: 6, End: 7, Pattern found: 9\n",
      "Total count:  4\n"
     ]
    }
   ],
   "source": [
    "\n",
    "\n",
    "matcher = re.finditer('[^a-z]', 'a7b@ k9z')\n",
    "\n",
    "count = 0\n",
    "\n",
    "for m in matcher:\n",
    "    count += 1\n",
    "    print('Match is at: {}, End: {}, Pattern found: {}'.format(m.start(), m.end(), m.group()))\n",
    "print('Total count: ',count)\n",
    "\n"
   ]
  },
  {
   "cell_type": "code",
   "execution_count": 30,
   "id": "f6ad94d7",
   "metadata": {},
   "outputs": [
    {
     "name": "stdout",
     "output_type": "stream",
     "text": [
      "Match is at: 4, End: 5, Pattern found:  \n",
      "Total count:  1\n"
     ]
    }
   ],
   "source": [
    "matcher = re.finditer('\\s', 'a7b@ k9z')\n",
    "\n",
    "count = 0\n",
    "\n",
    "for m in matcher:\n",
    "    count += 1\n",
    "    print('Match is at: {}, End: {}, Pattern found: {}'.format(m.start(), m.end(), m.group()))\n",
    "print('Total count: ',count)"
   ]
  },
  {
   "cell_type": "code",
   "execution_count": 31,
   "id": "e215d681",
   "metadata": {},
   "outputs": [
    {
     "name": "stdout",
     "output_type": "stream",
     "text": [
      "Match is at: 0, End: 1, Pattern found: a\n",
      "Match is at: 1, End: 2, Pattern found: 7\n",
      "Match is at: 2, End: 3, Pattern found: b\n",
      "Match is at: 5, End: 6, Pattern found: k\n",
      "Match is at: 6, End: 7, Pattern found: 9\n",
      "Match is at: 7, End: 8, Pattern found: z\n",
      "Total count:  6\n"
     ]
    }
   ],
   "source": [
    "matcher = re.finditer('\\w', 'a7b@ k9z')\n",
    "\n",
    "count = 0\n",
    "\n",
    "for m in matcher:\n",
    "    count += 1\n",
    "    print('Match is at: {}, End: {}, Pattern found: {}'.format(m.start(), m.end(), m.group()))\n",
    "print('Total count: ',count)"
   ]
  },
  {
   "cell_type": "code",
   "execution_count": 32,
   "id": "e1081e59",
   "metadata": {},
   "outputs": [
    {
     "name": "stdout",
     "output_type": "stream",
     "text": [
      "Match is at: 3, End: 4, Pattern found: @\n",
      "Match is at: 4, End: 5, Pattern found:  \n",
      "Total count:  2\n"
     ]
    }
   ],
   "source": [
    "\n",
    "\n",
    "matcher = re.finditer('\\W', 'a7b@ k9z')\n",
    "\n",
    "count = 0\n",
    "\n",
    "for m in matcher:\n",
    "    count += 1\n",
    "    print('Match is at: {}, End: {}, Pattern found: {}'.format(m.start(), m.end(), m.group()))\n",
    "print('Total count: ',count)\n",
    "\n"
   ]
  },
  {
   "cell_type": "code",
   "execution_count": 34,
   "id": "54f6c8f3",
   "metadata": {},
   "outputs": [
    {
     "name": "stdout",
     "output_type": "stream",
     "text": [
      "Match is at: 0, End: 1, Pattern found: a\n",
      "Total count:  1\n"
     ]
    }
   ],
   "source": [
    "\n",
    "\n",
    "matcher = re.finditer('^a', 'a7b@ k9z')\n",
    "\n",
    "count = 0\n",
    "\n",
    "for m in matcher:\n",
    "    count += 1\n",
    "    print('Match is at: {}, End: {}, Pattern found: {}'.format(m.start(), m.end(), m.group()))\n",
    "print('Total count: ',count)\n",
    "\n"
   ]
  },
  {
   "cell_type": "code",
   "execution_count": 35,
   "id": "eaa7609e",
   "metadata": {},
   "outputs": [
    {
     "name": "stdout",
     "output_type": "stream",
     "text": [
      "Match is at: 7, End: 8, Pattern found: z\n",
      "Total count:  1\n"
     ]
    }
   ],
   "source": [
    "\n",
    "\n",
    "matcher = re.finditer('z$', 'a7b@ k9z')\n",
    "\n",
    "count = 0\n",
    "\n",
    "for m in matcher:\n",
    "    count += 1\n",
    "    print('Match is at: {}, End: {}, Pattern found: {}'.format(m.start(), m.end(), m.group()))\n",
    "print('Total count: ',count)\n",
    "\n"
   ]
  },
  {
   "cell_type": "code",
   "execution_count": 36,
   "id": "a060f82a",
   "metadata": {},
   "outputs": [
    {
     "name": "stdout",
     "output_type": "stream",
     "text": [
      "Match is at: 0, End: 1, Pattern found: a\n",
      "Match is at: 2, End: 3, Pattern found: a\n",
      "Match is at: 3, End: 4, Pattern found: a\n",
      "Match is at: 5, End: 6, Pattern found: a\n",
      "Match is at: 7, End: 8, Pattern found: a\n",
      "Total count:  5\n"
     ]
    }
   ],
   "source": [
    "\n",
    "\n",
    "matcher = re.finditer('a', 'abaababa')\n",
    "\n",
    "count = 0\n",
    "\n",
    "for m in matcher:\n",
    "    count += 1\n",
    "    print('Match is at: {}, End: {}, Pattern found: {}'.format(m.start(), m.end(), m.group()))\n",
    "print('Total count: ',count)\n",
    "\n"
   ]
  },
  {
   "cell_type": "code",
   "execution_count": 37,
   "id": "62a80a43",
   "metadata": {},
   "outputs": [
    {
     "name": "stdout",
     "output_type": "stream",
     "text": [
      "Match is at: 0, End: 1, Pattern found: a\n",
      "Match is at: 2, End: 4, Pattern found: aa\n",
      "Match is at: 5, End: 6, Pattern found: a\n",
      "Match is at: 7, End: 8, Pattern found: a\n",
      "Total count:  4\n"
     ]
    }
   ],
   "source": [
    "\n",
    "\n",
    "matcher = re.finditer('a+', 'abaababa')\n",
    "\n",
    "count = 0\n",
    "\n",
    "for m in matcher:\n",
    "    count += 1\n",
    "    print('Match is at: {}, End: {}, Pattern found: {}'.format(m.start(), m.end(), m.group()))\n",
    "print('Total count: ',count)\n",
    "\n"
   ]
  },
  {
   "cell_type": "code",
   "execution_count": 38,
   "id": "e1a334fa",
   "metadata": {},
   "outputs": [
    {
     "name": "stdout",
     "output_type": "stream",
     "text": [
      "Match is at: 0, End: 1, Pattern found: a\n",
      "Match is at: 1, End: 1, Pattern found: \n",
      "Match is at: 2, End: 4, Pattern found: aa\n",
      "Match is at: 4, End: 4, Pattern found: \n",
      "Match is at: 5, End: 6, Pattern found: a\n",
      "Match is at: 6, End: 6, Pattern found: \n",
      "Match is at: 7, End: 8, Pattern found: a\n",
      "Match is at: 8, End: 8, Pattern found: \n",
      "Total count:  8\n"
     ]
    }
   ],
   "source": [
    "matcher = re.finditer('a*', 'abaababa')\n",
    "\n",
    "count = 0\n",
    "\n",
    "for m in matcher:\n",
    "    count += 1\n",
    "    print('Match is at: {}, End: {}, Pattern found: {}'.format(m.start(), m.end(), m.group()))\n",
    "print('Total count: ',count)"
   ]
  },
  {
   "cell_type": "code",
   "execution_count": 39,
   "id": "3db19115",
   "metadata": {},
   "outputs": [
    {
     "name": "stdout",
     "output_type": "stream",
     "text": [
      "Match is at: 0, End: 1, Pattern found: a\n",
      "Match is at: 1, End: 1, Pattern found: \n",
      "Match is at: 2, End: 3, Pattern found: a\n",
      "Match is at: 3, End: 4, Pattern found: a\n",
      "Match is at: 4, End: 4, Pattern found: \n",
      "Match is at: 5, End: 6, Pattern found: a\n",
      "Match is at: 6, End: 6, Pattern found: \n",
      "Match is at: 7, End: 8, Pattern found: a\n",
      "Match is at: 8, End: 8, Pattern found: \n",
      "Total count:  9\n"
     ]
    }
   ],
   "source": [
    "\n",
    "\n",
    "matcher = re.finditer('a?', 'abaababa')\n",
    "\n",
    "count = 0\n",
    "\n",
    "for m in matcher:\n",
    "    count += 1\n",
    "    print('Match is at: {}, End: {}, Pattern found: {}'.format(m.start(), m.end(), m.group()))\n",
    "print('Total count: ',count)\n",
    "\n"
   ]
  },
  {
   "cell_type": "code",
   "execution_count": 40,
   "id": "1267eddd",
   "metadata": {},
   "outputs": [
    {
     "name": "stdout",
     "output_type": "stream",
     "text": [
      "Match is at: 0, End: 1, Pattern found: a\n",
      "Match is at: 1, End: 1, Pattern found: \n",
      "Match is at: 2, End: 3, Pattern found: a\n",
      "Match is at: 3, End: 4, Pattern found: a\n",
      "Match is at: 4, End: 4, Pattern found: \n",
      "Match is at: 5, End: 5, Pattern found: \n",
      "Match is at: 6, End: 7, Pattern found: a\n",
      "Match is at: 7, End: 7, Pattern found: \n",
      "Match is at: 8, End: 9, Pattern found: a\n",
      "Match is at: 9, End: 9, Pattern found: \n",
      "Match is at: 10, End: 10, Pattern found: \n",
      "Match is at: 11, End: 11, Pattern found: \n",
      "Match is at: 12, End: 12, Pattern found: \n",
      "Total count:  13\n"
     ]
    }
   ],
   "source": [
    "\n",
    "\n",
    "matcher = re.finditer('a?', 'abaabbababbb')\n",
    "\n",
    "count = 0\n",
    "\n",
    "for m in matcher:\n",
    "    count += 1\n",
    "    print('Match is at: {}, End: {}, Pattern found: {}'.format(m.start(), m.end(), m.group()))\n",
    "print('Total count: ',count)\n",
    "\n"
   ]
  },
  {
   "cell_type": "markdown",
   "id": "b8784c7a",
   "metadata": {},
   "source": [
    "### re.match()"
   ]
  },
  {
   "cell_type": "code",
   "execution_count": 41,
   "id": "b645ff77",
   "metadata": {},
   "outputs": [
    {
     "name": "stdout",
     "output_type": "stream",
     "text": [
      "Enter pattern: abcd\n",
      "<class 're.Match'>\n",
      "Match found at beginning of the string.\n",
      "Match is at: 0, End: 4, Pattern found: abcd\n"
     ]
    }
   ],
   "source": [
    "\n",
    "\n",
    "\n",
    "# Used to match the given pattern at the beginning of the target string\n",
    "# If it finds the pattern than returns match object.\n",
    "# Now we can use start(), end(), group() with match object\n",
    "# If nothing found then retuns None.\n",
    "\n",
    "\n",
    "import re\n",
    "\n",
    "regex = input('Enter pattern: ')\n",
    "\n",
    "m = re.match(regex, 'abcdefgh')\n",
    "\n",
    "print(type(m))\n",
    "\n",
    "if m == None:\n",
    "    print('Match is not available at beginning of the string!')\n",
    "\n",
    "else:\n",
    "    print('Match found at beginning of the string.')\n",
    "    print('Match is at: {}, End: {}, Pattern found: {}'.format(m.start(), m.end(), m.group()))\n",
    "    \n",
    "\n"
   ]
  },
  {
   "cell_type": "markdown",
   "id": "1bd9ee0e",
   "metadata": {},
   "source": [
    "## re.search()"
   ]
  },
  {
   "cell_type": "code",
   "execution_count": 42,
   "id": "5c46e0eb",
   "metadata": {},
   "outputs": [
    {
     "name": "stdout",
     "output_type": "stream",
     "text": [
      "Enter pattern: abcd\n",
      "Match available.\n",
      "First occurance is at: 0, End: 4, Pattern found: abcd\n"
     ]
    }
   ],
   "source": [
    "\n",
    "\n",
    "\n",
    "# search the target irrespective of the location\n",
    "# If match is found returns the first occurance\n",
    "# otherwie returns None.\n",
    "\n",
    "# If it finds the pattern than returns match object.\n",
    "# Now we can use start(), end(), group() with match object\n",
    "# If nothing found then retuns None.\n",
    "\n",
    "\n",
    "import re\n",
    "\n",
    "regex = input('Enter pattern: ')\n",
    "\n",
    "m = re.search(regex, 'abcdefghi')\n",
    "\n",
    "if m != None:\n",
    "    print('Match available.')\n",
    "    print('First occurance is at: {}, End: {}, Pattern found: {}'.format(m.start(), m.end(), m.group()))\n",
    "\n",
    "else:\n",
    "    print('Match is not available in the whole string!')\n",
    "    \n",
    "\n"
   ]
  },
  {
   "cell_type": "markdown",
   "id": "3005c0a0",
   "metadata": {},
   "source": [
    "## re.match() vs re.search()\n"
   ]
  },
  {
   "cell_type": "code",
   "execution_count": 43,
   "id": "a9e6153f",
   "metadata": {},
   "outputs": [
    {
     "name": "stdout",
     "output_type": "stream",
     "text": [
      "NO MATCH\n",
      "SEARCH SUCC\n"
     ]
    }
   ],
   "source": [
    "\n",
    "\n",
    "target = 'Dogs are better than cats'\n",
    "\n",
    "pattern = 'cats'\n",
    "\n",
    "m = re.match(pattern, target)\n",
    "\n",
    "if m == None:\n",
    "    print('NO MATCH')\n",
    "else:\n",
    "    print('MATCH SUCC')\n",
    "    \n",
    "m = re.search(pattern, target)\n",
    "\n",
    "if m == None:\n",
    "    print('NO SEARCH')\n",
    "else:\n",
    "    print('SEARCH SUCC')\n",
    "\n"
   ]
  },
  {
   "cell_type": "markdown",
   "id": "3cadf19a",
   "metadata": {},
   "source": [
    "# Other Examples"
   ]
  },
  {
   "cell_type": "markdown",
   "id": "e45c6acd",
   "metadata": {},
   "source": [
    "### re.IGNORECASE flag\n"
   ]
  },
  {
   "cell_type": "code",
   "execution_count": 45,
   "id": "6837823c",
   "metadata": {},
   "outputs": [
    {
     "name": "stdout",
     "output_type": "stream",
     "text": [
      "Not Cool!!\n"
     ]
    }
   ],
   "source": [
    "\n",
    "\n",
    "\n",
    "# re.IGNORECASE flag\n",
    "\n",
    "import re\n",
    "\n",
    "s = 'I am learning Python'\n",
    "\n",
    "m = re.search('python$', s)\n",
    "\n",
    "if m:\n",
    "    print('Cool!!')\n",
    "    \n",
    "else:\n",
    "    print('Not Cool!!')\n",
    "\n"
   ]
  },
  {
   "cell_type": "markdown",
   "id": "a586177e",
   "metadata": {},
   "source": [
    "### Python Identifier\n"
   ]
  },
  {
   "cell_type": "code",
   "execution_count": 48,
   "id": "4af9967f",
   "metadata": {},
   "outputs": [
    {
     "name": "stdout",
     "output_type": "stream",
     "text": [
      "Enter any identifier to validate: abcdedf\n",
      "abcdedf is valid\n"
     ]
    }
   ],
   "source": [
    "\n",
    "\n",
    "\n",
    "import re\n",
    "\n",
    "s = input('Enter any identifier to validate: ')\n",
    "\n",
    "m = re.fullmatch('[a-zA-Z_]+[a-zA-Z0-9_]*', s)\n",
    "\n",
    "if m:\n",
    "    print(s, 'is valid')\n",
    "else:\n",
    "    print(s, 'not valid')\n",
    "\n"
   ]
  },
  {
   "cell_type": "markdown",
   "id": "244f83c2",
   "metadata": {},
   "source": [
    "## Match Phone number\n"
   ]
  },
  {
   "cell_type": "code",
   "execution_count": 49,
   "id": "3a23b29a",
   "metadata": {},
   "outputs": [
    {
     "name": "stdout",
     "output_type": "stream",
     "text": [
      "Enter a mobile number to validate: 9666025321\n",
      "9666025321 is Valid\n"
     ]
    }
   ],
   "source": [
    "\n",
    "import re\n",
    "\n",
    "s = input('Enter a mobile number to validate: ')\n",
    "\n",
    "m = re.fullmatch('[6-9]\\d{9}', s)\n",
    "\n",
    "if m:\n",
    "    print(s, 'is Valid')\n",
    "else:\n",
    "    print(s, 'not valid')"
   ]
  },
  {
   "cell_type": "code",
   "execution_count": null,
   "id": "13ed4909",
   "metadata": {},
   "outputs": [],
   "source": []
  }
 ],
 "metadata": {
  "kernelspec": {
   "display_name": "Python 3 (ipykernel)",
   "language": "python",
   "name": "python3"
  },
  "language_info": {
   "codemirror_mode": {
    "name": "ipython",
    "version": 3
   },
   "file_extension": ".py",
   "mimetype": "text/x-python",
   "name": "python",
   "nbconvert_exporter": "python",
   "pygments_lexer": "ipython3",
   "version": "3.9.13"
  }
 },
 "nbformat": 4,
 "nbformat_minor": 5
}
