{
 "cells": [
  {
   "cell_type": "markdown",
   "metadata": {
    "papermill": {
     "duration": 0.007869,
     "end_time": "2020-09-04T08:35:19.748393",
     "exception": false,
     "start_time": "2020-09-04T08:35:19.740524",
     "status": "completed"
    },
    "tags": []
   },
   "source": [
    "<h1 align='center'><b>\n",
    "    <img src='https://media3.giphy.com/media/KAq5w47R9rmTuvWOWa/giphy.gif' width=100 height=100>\n",
    "    <font color='sky blue' face='lucida handwriting'size=300>Py</font><font color='yellow' face='lucida handwriting' size=300>Tech</font></b></h1>\n",
    "    "
   ]
  },
  {
   "cell_type": "markdown",
   "metadata": {
    "papermill": {
     "duration": 0.005379,
     "end_time": "2020-09-04T08:35:19.759711",
     "exception": false,
     "start_time": "2020-09-04T08:35:19.754332",
     "status": "completed"
    },
    "tags": []
   },
   "source": [
    "<h1><i><font face='Courier' size = 10>Importing Libraries</font></i></h1>"
   ]
  },
  {
   "cell_type": "code",
   "execution_count": 1,
   "metadata": {
    "_cell_guid": "b1076dfc-b9ad-4769-8c92-a6c4dae69d19",
    "_uuid": "8f2839f25d086af736a60e9eeb907d3b93b6e0e5",
    "execution": {
     "iopub.execute_input": "2020-09-04T08:35:19.779120Z",
     "iopub.status.busy": "2020-09-04T08:35:19.778393Z",
     "iopub.status.idle": "2020-09-04T08:35:21.678334Z",
     "shell.execute_reply": "2020-09-04T08:35:21.677551Z"
    },
    "papermill": {
     "duration": 1.912884,
     "end_time": "2020-09-04T08:35:21.678459",
     "exception": false,
     "start_time": "2020-09-04T08:35:19.765575",
     "status": "completed"
    },
    "tags": []
   },
   "outputs": [],
   "source": [
    "import numpy as np \n",
    "import string\n",
    "from nltk.corpus import stopwords\n",
    "import pandas as pd \n",
    "from sklearn.feature_extraction.text import CountVectorizer\n",
    "from sklearn.tree import DecisionTreeClassifier\n",
    "from sklearn.feature_extraction.text import TfidfTransformer,TfidfVectorizer\n",
    "from sklearn.pipeline import Pipeline"
   ]
  },
  {
   "cell_type": "code",
   "execution_count": 2,
   "metadata": {
    "execution": {
     "iopub.execute_input": "2020-09-04T08:35:21.700624Z",
     "iopub.status.busy": "2020-09-04T08:35:21.699854Z",
     "iopub.status.idle": "2020-09-04T08:35:21.727881Z",
     "shell.execute_reply": "2020-09-04T08:35:21.727194Z"
    },
    "papermill": {
     "duration": 0.042283,
     "end_time": "2020-09-04T08:35:21.728000",
     "exception": false,
     "start_time": "2020-09-04T08:35:21.685717",
     "status": "completed"
    },
    "tags": []
   },
   "outputs": [],
   "source": [
    "df = pd.read_csv('../input/simple-dialogs-for-chatbot/dialogs.txt',sep='\\t')"
   ]
  },
  {
   "cell_type": "code",
   "execution_count": 3,
   "metadata": {
    "execution": {
     "iopub.execute_input": "2020-09-04T08:35:21.745238Z",
     "iopub.status.busy": "2020-09-04T08:35:21.744419Z",
     "iopub.status.idle": "2020-09-04T08:35:21.747388Z",
     "shell.execute_reply": "2020-09-04T08:35:21.746749Z"
    },
    "papermill": {
     "duration": 0.013483,
     "end_time": "2020-09-04T08:35:21.747500",
     "exception": false,
     "start_time": "2020-09-04T08:35:21.734017",
     "status": "completed"
    },
    "tags": []
   },
   "outputs": [],
   "source": [
    "a = pd.Series(df.columns)"
   ]
  },
  {
   "cell_type": "code",
   "execution_count": 4,
   "metadata": {
    "execution": {
     "iopub.execute_input": "2020-09-04T08:35:21.774645Z",
     "iopub.status.busy": "2020-09-04T08:35:21.767915Z",
     "iopub.status.idle": "2020-09-04T08:35:21.783360Z",
     "shell.execute_reply": "2020-09-04T08:35:21.782838Z"
    },
    "papermill": {
     "duration": 0.029898,
     "end_time": "2020-09-04T08:35:21.783469",
     "exception": false,
     "start_time": "2020-09-04T08:35:21.753571",
     "status": "completed"
    },
    "tags": []
   },
   "outputs": [
    {
     "data": {
      "text/html": [
       "<div>\n",
       "<style scoped>\n",
       "    .dataframe tbody tr th:only-of-type {\n",
       "        vertical-align: middle;\n",
       "    }\n",
       "\n",
       "    .dataframe tbody tr th {\n",
       "        vertical-align: top;\n",
       "    }\n",
       "\n",
       "    .dataframe thead th {\n",
       "        text-align: right;\n",
       "    }\n",
       "</style>\n",
       "<table border=\"1\" class=\"dataframe\">\n",
       "  <thead>\n",
       "    <tr style=\"text-align: right;\">\n",
       "      <th></th>\n",
       "      <th>hi, how are you doing?</th>\n",
       "      <th>i'm fine. how about yourself?</th>\n",
       "    </tr>\n",
       "  </thead>\n",
       "  <tbody>\n",
       "    <tr>\n",
       "      <th>0</th>\n",
       "      <td>i'm fine. how about yourself?</td>\n",
       "      <td>i'm pretty good. thanks for asking.</td>\n",
       "    </tr>\n",
       "    <tr>\n",
       "      <th>1</th>\n",
       "      <td>i'm pretty good. thanks for asking.</td>\n",
       "      <td>no problem. so how have you been?</td>\n",
       "    </tr>\n",
       "    <tr>\n",
       "      <th>2</th>\n",
       "      <td>no problem. so how have you been?</td>\n",
       "      <td>i've been great. what about you?</td>\n",
       "    </tr>\n",
       "    <tr>\n",
       "      <th>3</th>\n",
       "      <td>i've been great. what about you?</td>\n",
       "      <td>i've been good. i'm in school right now.</td>\n",
       "    </tr>\n",
       "    <tr>\n",
       "      <th>4</th>\n",
       "      <td>i've been good. i'm in school right now.</td>\n",
       "      <td>what school do you go to?</td>\n",
       "    </tr>\n",
       "    <tr>\n",
       "      <th>...</th>\n",
       "      <td>...</td>\n",
       "      <td>...</td>\n",
       "    </tr>\n",
       "    <tr>\n",
       "      <th>3719</th>\n",
       "      <td>that's a good question. maybe it's not old age.</td>\n",
       "      <td>are you right-handed?</td>\n",
       "    </tr>\n",
       "    <tr>\n",
       "      <th>3720</th>\n",
       "      <td>are you right-handed?</td>\n",
       "      <td>yes. all my life.</td>\n",
       "    </tr>\n",
       "    <tr>\n",
       "      <th>3721</th>\n",
       "      <td>yes. all my life.</td>\n",
       "      <td>you're wearing out your right hand. stop using...</td>\n",
       "    </tr>\n",
       "    <tr>\n",
       "      <th>3722</th>\n",
       "      <td>you're wearing out your right hand. stop using...</td>\n",
       "      <td>but i do all my writing with my right hand.</td>\n",
       "    </tr>\n",
       "    <tr>\n",
       "      <th>3723</th>\n",
       "      <td>but i do all my writing with my right hand.</td>\n",
       "      <td>start typing instead. that way your left hand ...</td>\n",
       "    </tr>\n",
       "  </tbody>\n",
       "</table>\n",
       "<p>3724 rows × 2 columns</p>\n",
       "</div>"
      ],
      "text/plain": [
       "                                 hi, how are you doing?  \\\n",
       "0                         i'm fine. how about yourself?   \n",
       "1                   i'm pretty good. thanks for asking.   \n",
       "2                     no problem. so how have you been?   \n",
       "3                      i've been great. what about you?   \n",
       "4              i've been good. i'm in school right now.   \n",
       "...                                                 ...   \n",
       "3719    that's a good question. maybe it's not old age.   \n",
       "3720                              are you right-handed?   \n",
       "3721                                  yes. all my life.   \n",
       "3722  you're wearing out your right hand. stop using...   \n",
       "3723        but i do all my writing with my right hand.   \n",
       "\n",
       "                          i'm fine. how about yourself?  \n",
       "0                   i'm pretty good. thanks for asking.  \n",
       "1                     no problem. so how have you been?  \n",
       "2                      i've been great. what about you?  \n",
       "3              i've been good. i'm in school right now.  \n",
       "4                             what school do you go to?  \n",
       "...                                                 ...  \n",
       "3719                              are you right-handed?  \n",
       "3720                                  yes. all my life.  \n",
       "3721  you're wearing out your right hand. stop using...  \n",
       "3722        but i do all my writing with my right hand.  \n",
       "3723  start typing instead. that way your left hand ...  \n",
       "\n",
       "[3724 rows x 2 columns]"
      ]
     },
     "execution_count": 4,
     "metadata": {},
     "output_type": "execute_result"
    }
   ],
   "source": [
    "df"
   ]
  },
  {
   "cell_type": "code",
   "execution_count": 5,
   "metadata": {
    "execution": {
     "iopub.execute_input": "2020-09-04T08:35:21.806941Z",
     "iopub.status.busy": "2020-09-04T08:35:21.806218Z",
     "iopub.status.idle": "2020-09-04T08:35:21.809623Z",
     "shell.execute_reply": "2020-09-04T08:35:21.809062Z"
    },
    "papermill": {
     "duration": 0.020224,
     "end_time": "2020-09-04T08:35:21.809785",
     "exception": false,
     "start_time": "2020-09-04T08:35:21.789561",
     "status": "completed"
    },
    "tags": []
   },
   "outputs": [],
   "source": [
    "a = a.rename({0: df.columns[0],1: df.columns[1]})"
   ]
  },
  {
   "cell_type": "markdown",
   "metadata": {
    "papermill": {
     "duration": 0.005836,
     "end_time": "2020-09-04T08:35:21.822217",
     "exception": false,
     "start_time": "2020-09-04T08:35:21.816381",
     "status": "completed"
    },
    "tags": []
   },
   "source": [
    "<h1><i><font face='Courier' size = 10>Adding some common Questions</font></i></h1>"
   ]
  },
  {
   "cell_type": "code",
   "execution_count": 6,
   "metadata": {
    "execution": {
     "iopub.execute_input": "2020-09-04T08:35:21.839450Z",
     "iopub.status.busy": "2020-09-04T08:35:21.838813Z",
     "iopub.status.idle": "2020-09-04T08:35:21.842113Z",
     "shell.execute_reply": "2020-09-04T08:35:21.841521Z"
    },
    "papermill": {
     "duration": 0.01386,
     "end_time": "2020-09-04T08:35:21.842229",
     "exception": false,
     "start_time": "2020-09-04T08:35:21.828369",
     "status": "completed"
    },
    "tags": []
   },
   "outputs": [],
   "source": [
    "b = {'Questions':'Hi','Answers':'hello'}"
   ]
  },
  {
   "cell_type": "code",
   "execution_count": 7,
   "metadata": {
    "execution": {
     "iopub.execute_input": "2020-09-04T08:35:21.859699Z",
     "iopub.status.busy": "2020-09-04T08:35:21.859051Z",
     "iopub.status.idle": "2020-09-04T08:35:21.861760Z",
     "shell.execute_reply": "2020-09-04T08:35:21.862214Z"
    },
    "papermill": {
     "duration": 0.013897,
     "end_time": "2020-09-04T08:35:21.862400",
     "exception": false,
     "start_time": "2020-09-04T08:35:21.848503",
     "status": "completed"
    },
    "tags": []
   },
   "outputs": [],
   "source": [
    "c = {'Questions':'Hello','Answers':'hi'}"
   ]
  },
  {
   "cell_type": "code",
   "execution_count": 8,
   "metadata": {
    "execution": {
     "iopub.execute_input": "2020-09-04T08:35:21.880180Z",
     "iopub.status.busy": "2020-09-04T08:35:21.879465Z",
     "iopub.status.idle": "2020-09-04T08:35:21.882026Z",
     "shell.execute_reply": "2020-09-04T08:35:21.882458Z"
    },
    "papermill": {
     "duration": 0.013758,
     "end_time": "2020-09-04T08:35:21.882604",
     "exception": false,
     "start_time": "2020-09-04T08:35:21.868846",
     "status": "completed"
    },
    "tags": []
   },
   "outputs": [],
   "source": [
    "d= {'Questions':'how are you','Answers':\"i'm fine. how about yourself?\"}"
   ]
  },
  {
   "cell_type": "code",
   "execution_count": 9,
   "metadata": {
    "execution": {
     "iopub.execute_input": "2020-09-04T08:35:21.900564Z",
     "iopub.status.busy": "2020-09-04T08:35:21.899788Z",
     "iopub.status.idle": "2020-09-04T08:35:21.902758Z",
     "shell.execute_reply": "2020-09-04T08:35:21.902150Z"
    },
    "papermill": {
     "duration": 0.013841,
     "end_time": "2020-09-04T08:35:21.902888",
     "exception": false,
     "start_time": "2020-09-04T08:35:21.889047",
     "status": "completed"
    },
    "tags": []
   },
   "outputs": [],
   "source": [
    "e= {'Questions':'how are you doing','Answers':\"i'm fine. how about yourself?\"}"
   ]
  },
  {
   "cell_type": "code",
   "execution_count": 10,
   "metadata": {
    "execution": {
     "iopub.execute_input": "2020-09-04T08:35:21.924683Z",
     "iopub.status.busy": "2020-09-04T08:35:21.923932Z",
     "iopub.status.idle": "2020-09-04T08:35:21.927198Z",
     "shell.execute_reply": "2020-09-04T08:35:21.926609Z"
    },
    "papermill": {
     "duration": 0.017907,
     "end_time": "2020-09-04T08:35:21.927315",
     "exception": false,
     "start_time": "2020-09-04T08:35:21.909408",
     "status": "completed"
    },
    "tags": []
   },
   "outputs": [],
   "source": [
    "df = df.append(a,ignore_index=True)"
   ]
  },
  {
   "cell_type": "code",
   "execution_count": 11,
   "metadata": {
    "execution": {
     "iopub.execute_input": "2020-09-04T08:35:21.946055Z",
     "iopub.status.busy": "2020-09-04T08:35:21.945133Z",
     "iopub.status.idle": "2020-09-04T08:35:21.948690Z",
     "shell.execute_reply": "2020-09-04T08:35:21.948059Z"
    },
    "papermill": {
     "duration": 0.015124,
     "end_time": "2020-09-04T08:35:21.948804",
     "exception": false,
     "start_time": "2020-09-04T08:35:21.933680",
     "status": "completed"
    },
    "tags": []
   },
   "outputs": [],
   "source": [
    "df.columns=['Questions','Answers']"
   ]
  },
  {
   "cell_type": "code",
   "execution_count": 12,
   "metadata": {
    "execution": {
     "iopub.execute_input": "2020-09-04T08:35:21.967269Z",
     "iopub.status.busy": "2020-09-04T08:35:21.966555Z",
     "iopub.status.idle": "2020-09-04T08:35:21.974817Z",
     "shell.execute_reply": "2020-09-04T08:35:21.974152Z"
    },
    "papermill": {
     "duration": 0.01971,
     "end_time": "2020-09-04T08:35:21.974979",
     "exception": false,
     "start_time": "2020-09-04T08:35:21.955269",
     "status": "completed"
    },
    "tags": []
   },
   "outputs": [],
   "source": [
    "df = df.append([b,c,d,e],ignore_index=True)"
   ]
  },
  {
   "cell_type": "code",
   "execution_count": 13,
   "metadata": {
    "execution": {
     "iopub.execute_input": "2020-09-04T08:35:21.999998Z",
     "iopub.status.busy": "2020-09-04T08:35:21.998996Z",
     "iopub.status.idle": "2020-09-04T08:35:22.003769Z",
     "shell.execute_reply": "2020-09-04T08:35:22.003185Z"
    },
    "papermill": {
     "duration": 0.022429,
     "end_time": "2020-09-04T08:35:22.003905",
     "exception": false,
     "start_time": "2020-09-04T08:35:21.981476",
     "status": "completed"
    },
    "tags": []
   },
   "outputs": [
    {
     "data": {
      "text/html": [
       "<div>\n",
       "<style scoped>\n",
       "    .dataframe tbody tr th:only-of-type {\n",
       "        vertical-align: middle;\n",
       "    }\n",
       "\n",
       "    .dataframe tbody tr th {\n",
       "        vertical-align: top;\n",
       "    }\n",
       "\n",
       "    .dataframe thead th {\n",
       "        text-align: right;\n",
       "    }\n",
       "</style>\n",
       "<table border=\"1\" class=\"dataframe\">\n",
       "  <thead>\n",
       "    <tr style=\"text-align: right;\">\n",
       "      <th></th>\n",
       "      <th>Questions</th>\n",
       "      <th>Answers</th>\n",
       "    </tr>\n",
       "  </thead>\n",
       "  <tbody>\n",
       "    <tr>\n",
       "      <th>0</th>\n",
       "      <td>i'm fine. how about yourself?</td>\n",
       "      <td>i'm pretty good. thanks for asking.</td>\n",
       "    </tr>\n",
       "    <tr>\n",
       "      <th>1</th>\n",
       "      <td>i'm pretty good. thanks for asking.</td>\n",
       "      <td>no problem. so how have you been?</td>\n",
       "    </tr>\n",
       "    <tr>\n",
       "      <th>2</th>\n",
       "      <td>no problem. so how have you been?</td>\n",
       "      <td>i've been great. what about you?</td>\n",
       "    </tr>\n",
       "    <tr>\n",
       "      <th>3</th>\n",
       "      <td>i've been great. what about you?</td>\n",
       "      <td>i've been good. i'm in school right now.</td>\n",
       "    </tr>\n",
       "    <tr>\n",
       "      <th>4</th>\n",
       "      <td>i've been good. i'm in school right now.</td>\n",
       "      <td>what school do you go to?</td>\n",
       "    </tr>\n",
       "    <tr>\n",
       "      <th>...</th>\n",
       "      <td>...</td>\n",
       "      <td>...</td>\n",
       "    </tr>\n",
       "    <tr>\n",
       "      <th>3724</th>\n",
       "      <td>hi, how are you doing?</td>\n",
       "      <td>i'm fine. how about yourself?</td>\n",
       "    </tr>\n",
       "    <tr>\n",
       "      <th>3725</th>\n",
       "      <td>Hi</td>\n",
       "      <td>hello</td>\n",
       "    </tr>\n",
       "    <tr>\n",
       "      <th>3726</th>\n",
       "      <td>Hello</td>\n",
       "      <td>hi</td>\n",
       "    </tr>\n",
       "    <tr>\n",
       "      <th>3727</th>\n",
       "      <td>how are you</td>\n",
       "      <td>i'm fine. how about yourself?</td>\n",
       "    </tr>\n",
       "    <tr>\n",
       "      <th>3728</th>\n",
       "      <td>how are you doing</td>\n",
       "      <td>i'm fine. how about yourself?</td>\n",
       "    </tr>\n",
       "  </tbody>\n",
       "</table>\n",
       "<p>3729 rows × 2 columns</p>\n",
       "</div>"
      ],
      "text/plain": [
       "                                     Questions  \\\n",
       "0                i'm fine. how about yourself?   \n",
       "1          i'm pretty good. thanks for asking.   \n",
       "2            no problem. so how have you been?   \n",
       "3             i've been great. what about you?   \n",
       "4     i've been good. i'm in school right now.   \n",
       "...                                        ...   \n",
       "3724                    hi, how are you doing?   \n",
       "3725                                        Hi   \n",
       "3726                                     Hello   \n",
       "3727                               how are you   \n",
       "3728                         how are you doing   \n",
       "\n",
       "                                       Answers  \n",
       "0          i'm pretty good. thanks for asking.  \n",
       "1            no problem. so how have you been?  \n",
       "2             i've been great. what about you?  \n",
       "3     i've been good. i'm in school right now.  \n",
       "4                    what school do you go to?  \n",
       "...                                        ...  \n",
       "3724             i'm fine. how about yourself?  \n",
       "3725                                     hello  \n",
       "3726                                        hi  \n",
       "3727             i'm fine. how about yourself?  \n",
       "3728             i'm fine. how about yourself?  \n",
       "\n",
       "[3729 rows x 2 columns]"
      ]
     },
     "execution_count": 13,
     "metadata": {},
     "output_type": "execute_result"
    }
   ],
   "source": [
    "df"
   ]
  },
  {
   "cell_type": "code",
   "execution_count": 14,
   "metadata": {
    "execution": {
     "iopub.execute_input": "2020-09-04T08:35:22.027000Z",
     "iopub.status.busy": "2020-09-04T08:35:22.026051Z",
     "iopub.status.idle": "2020-09-04T08:35:22.029065Z",
     "shell.execute_reply": "2020-09-04T08:35:22.028435Z"
    },
    "papermill": {
     "duration": 0.018396,
     "end_time": "2020-09-04T08:35:22.029178",
     "exception": false,
     "start_time": "2020-09-04T08:35:22.010782",
     "status": "completed"
    },
    "tags": []
   },
   "outputs": [],
   "source": [
    "df = df.append(c,ignore_index=True)"
   ]
  },
  {
   "cell_type": "code",
   "execution_count": 15,
   "metadata": {
    "execution": {
     "iopub.execute_input": "2020-09-04T08:35:22.051561Z",
     "iopub.status.busy": "2020-09-04T08:35:22.050660Z",
     "iopub.status.idle": "2020-09-04T08:35:22.054073Z",
     "shell.execute_reply": "2020-09-04T08:35:22.053502Z"
    },
    "papermill": {
     "duration": 0.018083,
     "end_time": "2020-09-04T08:35:22.054188",
     "exception": false,
     "start_time": "2020-09-04T08:35:22.036105",
     "status": "completed"
    },
    "tags": []
   },
   "outputs": [],
   "source": [
    "df = df.append(d,ignore_index=True)"
   ]
  },
  {
   "cell_type": "code",
   "execution_count": 16,
   "metadata": {
    "execution": {
     "iopub.execute_input": "2020-09-04T08:35:22.076130Z",
     "iopub.status.busy": "2020-09-04T08:35:22.075276Z",
     "iopub.status.idle": "2020-09-04T08:35:22.079673Z",
     "shell.execute_reply": "2020-09-04T08:35:22.079010Z"
    },
    "papermill": {
     "duration": 0.018821,
     "end_time": "2020-09-04T08:35:22.079795",
     "exception": false,
     "start_time": "2020-09-04T08:35:22.060974",
     "status": "completed"
    },
    "tags": []
   },
   "outputs": [],
   "source": [
    "df = df.append(d,ignore_index=True)"
   ]
  },
  {
   "cell_type": "code",
   "execution_count": 17,
   "metadata": {
    "execution": {
     "iopub.execute_input": "2020-09-04T08:35:22.105911Z",
     "iopub.status.busy": "2020-09-04T08:35:22.099026Z",
     "iopub.status.idle": "2020-09-04T08:35:22.110684Z",
     "shell.execute_reply": "2020-09-04T08:35:22.110076Z"
    },
    "papermill": {
     "duration": 0.023539,
     "end_time": "2020-09-04T08:35:22.110793",
     "exception": false,
     "start_time": "2020-09-04T08:35:22.087254",
     "status": "completed"
    },
    "tags": []
   },
   "outputs": [
    {
     "data": {
      "text/html": [
       "<div>\n",
       "<style scoped>\n",
       "    .dataframe tbody tr th:only-of-type {\n",
       "        vertical-align: middle;\n",
       "    }\n",
       "\n",
       "    .dataframe tbody tr th {\n",
       "        vertical-align: top;\n",
       "    }\n",
       "\n",
       "    .dataframe thead th {\n",
       "        text-align: right;\n",
       "    }\n",
       "</style>\n",
       "<table border=\"1\" class=\"dataframe\">\n",
       "  <thead>\n",
       "    <tr style=\"text-align: right;\">\n",
       "      <th></th>\n",
       "      <th>Questions</th>\n",
       "      <th>Answers</th>\n",
       "    </tr>\n",
       "  </thead>\n",
       "  <tbody>\n",
       "    <tr>\n",
       "      <th>0</th>\n",
       "      <td>i'm fine. how about yourself?</td>\n",
       "      <td>i'm pretty good. thanks for asking.</td>\n",
       "    </tr>\n",
       "    <tr>\n",
       "      <th>1</th>\n",
       "      <td>i'm pretty good. thanks for asking.</td>\n",
       "      <td>no problem. so how have you been?</td>\n",
       "    </tr>\n",
       "    <tr>\n",
       "      <th>2</th>\n",
       "      <td>no problem. so how have you been?</td>\n",
       "      <td>i've been great. what about you?</td>\n",
       "    </tr>\n",
       "    <tr>\n",
       "      <th>3</th>\n",
       "      <td>i've been great. what about you?</td>\n",
       "      <td>i've been good. i'm in school right now.</td>\n",
       "    </tr>\n",
       "    <tr>\n",
       "      <th>4</th>\n",
       "      <td>i've been good. i'm in school right now.</td>\n",
       "      <td>what school do you go to?</td>\n",
       "    </tr>\n",
       "    <tr>\n",
       "      <th>...</th>\n",
       "      <td>...</td>\n",
       "      <td>...</td>\n",
       "    </tr>\n",
       "    <tr>\n",
       "      <th>3727</th>\n",
       "      <td>how are you</td>\n",
       "      <td>i'm fine. how about yourself?</td>\n",
       "    </tr>\n",
       "    <tr>\n",
       "      <th>3728</th>\n",
       "      <td>how are you doing</td>\n",
       "      <td>i'm fine. how about yourself?</td>\n",
       "    </tr>\n",
       "    <tr>\n",
       "      <th>3729</th>\n",
       "      <td>Hello</td>\n",
       "      <td>hi</td>\n",
       "    </tr>\n",
       "    <tr>\n",
       "      <th>3730</th>\n",
       "      <td>how are you</td>\n",
       "      <td>i'm fine. how about yourself?</td>\n",
       "    </tr>\n",
       "    <tr>\n",
       "      <th>3731</th>\n",
       "      <td>how are you</td>\n",
       "      <td>i'm fine. how about yourself?</td>\n",
       "    </tr>\n",
       "  </tbody>\n",
       "</table>\n",
       "<p>3732 rows × 2 columns</p>\n",
       "</div>"
      ],
      "text/plain": [
       "                                     Questions  \\\n",
       "0                i'm fine. how about yourself?   \n",
       "1          i'm pretty good. thanks for asking.   \n",
       "2            no problem. so how have you been?   \n",
       "3             i've been great. what about you?   \n",
       "4     i've been good. i'm in school right now.   \n",
       "...                                        ...   \n",
       "3727                               how are you   \n",
       "3728                         how are you doing   \n",
       "3729                                     Hello   \n",
       "3730                               how are you   \n",
       "3731                               how are you   \n",
       "\n",
       "                                       Answers  \n",
       "0          i'm pretty good. thanks for asking.  \n",
       "1            no problem. so how have you been?  \n",
       "2             i've been great. what about you?  \n",
       "3     i've been good. i'm in school right now.  \n",
       "4                    what school do you go to?  \n",
       "...                                        ...  \n",
       "3727             i'm fine. how about yourself?  \n",
       "3728             i'm fine. how about yourself?  \n",
       "3729                                        hi  \n",
       "3730             i'm fine. how about yourself?  \n",
       "3731             i'm fine. how about yourself?  \n",
       "\n",
       "[3732 rows x 2 columns]"
      ]
     },
     "execution_count": 17,
     "metadata": {},
     "output_type": "execute_result"
    }
   ],
   "source": [
    "df"
   ]
  },
  {
   "cell_type": "code",
   "execution_count": 18,
   "metadata": {
    "execution": {
     "iopub.execute_input": "2020-09-04T08:35:22.131780Z",
     "iopub.status.busy": "2020-09-04T08:35:22.130914Z",
     "iopub.status.idle": "2020-09-04T08:35:22.133893Z",
     "shell.execute_reply": "2020-09-04T08:35:22.133359Z"
    },
    "papermill": {
     "duration": 0.015965,
     "end_time": "2020-09-04T08:35:22.134008",
     "exception": false,
     "start_time": "2020-09-04T08:35:22.118043",
     "status": "completed"
    },
    "tags": []
   },
   "outputs": [],
   "source": [
    "def cleaner(x):\n",
    "    return [a for a in (''.join([a for a in x if a not in string.punctuation])).lower().split()]"
   ]
  },
  {
   "cell_type": "markdown",
   "metadata": {
    "papermill": {
     "duration": 0.006937,
     "end_time": "2020-09-04T08:35:22.148245",
     "exception": false,
     "start_time": "2020-09-04T08:35:22.141308",
     "status": "completed"
    },
    "tags": []
   },
   "source": [
    "<h1><i><font face='Courier' size = 10>Decision Tree Classifier</font></i></h1>"
   ]
  },
  {
   "cell_type": "code",
   "execution_count": 19,
   "metadata": {
    "execution": {
     "iopub.execute_input": "2020-09-04T08:35:22.168519Z",
     "iopub.status.busy": "2020-09-04T08:35:22.167770Z",
     "iopub.status.idle": "2020-09-04T08:35:22.170714Z",
     "shell.execute_reply": "2020-09-04T08:35:22.170093Z"
    },
    "papermill": {
     "duration": 0.01547,
     "end_time": "2020-09-04T08:35:22.170831",
     "exception": false,
     "start_time": "2020-09-04T08:35:22.155361",
     "status": "completed"
    },
    "tags": []
   },
   "outputs": [],
   "source": [
    "Pipe = Pipeline([\n",
    "    ('bow',CountVectorizer(analyzer=cleaner)),\n",
    "    ('tfidf',TfidfTransformer()),\n",
    "    ('classifier',DecisionTreeClassifier())\n",
    "])"
   ]
  },
  {
   "cell_type": "code",
   "execution_count": 20,
   "metadata": {
    "execution": {
     "iopub.execute_input": "2020-09-04T08:35:22.229980Z",
     "iopub.status.busy": "2020-09-04T08:35:22.199110Z",
     "iopub.status.idle": "2020-09-04T08:35:33.903102Z",
     "shell.execute_reply": "2020-09-04T08:35:33.902572Z"
    },
    "papermill": {
     "duration": 11.725116,
     "end_time": "2020-09-04T08:35:33.903225",
     "exception": false,
     "start_time": "2020-09-04T08:35:22.178109",
     "status": "completed"
    },
    "tags": []
   },
   "outputs": [
    {
     "data": {
      "text/plain": [
       "Pipeline(steps=[('bow',\n",
       "                 CountVectorizer(analyzer=<function cleaner at 0x7f5cfaae40e0>)),\n",
       "                ('tfidf', TfidfTransformer()),\n",
       "                ('classifier', DecisionTreeClassifier())])"
      ]
     },
     "execution_count": 20,
     "metadata": {},
     "output_type": "execute_result"
    }
   ],
   "source": [
    "Pipe.fit(df['Questions'],df['Answers'])"
   ]
  },
  {
   "cell_type": "markdown",
   "metadata": {
    "papermill": {
     "duration": 0.006931,
     "end_time": "2020-09-04T08:35:33.917845",
     "exception": false,
     "start_time": "2020-09-04T08:35:33.910914",
     "status": "completed"
    },
    "tags": []
   },
   "source": [
    "<h1><i><font face='Courier' size = 10>Now we can talk to our chatbot</font></i></h1>"
   ]
  },
  {
   "cell_type": "code",
   "execution_count": 21,
   "metadata": {
    "execution": {
     "iopub.execute_input": "2020-09-04T08:35:33.940301Z",
     "iopub.status.busy": "2020-09-04T08:35:33.939443Z",
     "iopub.status.idle": "2020-09-04T08:35:33.943260Z",
     "shell.execute_reply": "2020-09-04T08:35:33.943672Z"
    },
    "papermill": {
     "duration": 0.018516,
     "end_time": "2020-09-04T08:35:33.943828",
     "exception": false,
     "start_time": "2020-09-04T08:35:33.925312",
     "status": "completed"
    },
    "tags": []
   },
   "outputs": [
    {
     "data": {
      "text/plain": [
       "'hello'"
      ]
     },
     "execution_count": 21,
     "metadata": {},
     "output_type": "execute_result"
    }
   ],
   "source": [
    "Pipe.predict(['hi'])[0]"
   ]
  },
  {
   "cell_type": "code",
   "execution_count": 22,
   "metadata": {
    "execution": {
     "iopub.execute_input": "2020-09-04T08:35:33.967059Z",
     "iopub.status.busy": "2020-09-04T08:35:33.966187Z",
     "iopub.status.idle": "2020-09-04T08:35:33.970696Z",
     "shell.execute_reply": "2020-09-04T08:35:33.970111Z"
    },
    "papermill": {
     "duration": 0.019149,
     "end_time": "2020-09-04T08:35:33.970848",
     "exception": false,
     "start_time": "2020-09-04T08:35:33.951699",
     "status": "completed"
    },
    "tags": []
   },
   "outputs": [
    {
     "data": {
      "text/plain": [
       "\"i'm fine. how about yourself?\""
      ]
     },
     "execution_count": 22,
     "metadata": {},
     "output_type": "execute_result"
    }
   ],
   "source": [
    "Pipe.predict(['how are you'])[0]"
   ]
  },
  {
   "cell_type": "code",
   "execution_count": 23,
   "metadata": {
    "execution": {
     "iopub.execute_input": "2020-09-04T08:35:33.993571Z",
     "iopub.status.busy": "2020-09-04T08:35:33.992794Z",
     "iopub.status.idle": "2020-09-04T08:35:33.997185Z",
     "shell.execute_reply": "2020-09-04T08:35:33.996524Z"
    },
    "papermill": {
     "duration": 0.018896,
     "end_time": "2020-09-04T08:35:33.997314",
     "exception": false,
     "start_time": "2020-09-04T08:35:33.978418",
     "status": "completed"
    },
    "tags": []
   },
   "outputs": [
    {
     "data": {
      "text/plain": [
       "'i appreciate that.'"
      ]
     },
     "execution_count": 23,
     "metadata": {},
     "output_type": "execute_result"
    }
   ],
   "source": [
    "Pipe.predict(['great'])[0]"
   ]
  },
  {
   "cell_type": "code",
   "execution_count": 24,
   "metadata": {
    "execution": {
     "iopub.execute_input": "2020-09-04T08:35:34.022306Z",
     "iopub.status.busy": "2020-09-04T08:35:34.021273Z",
     "iopub.status.idle": "2020-09-04T08:35:34.025411Z",
     "shell.execute_reply": "2020-09-04T08:35:34.024686Z"
    },
    "papermill": {
     "duration": 0.019754,
     "end_time": "2020-09-04T08:35:34.025531",
     "exception": false,
     "start_time": "2020-09-04T08:35:34.005777",
     "status": "completed"
    },
    "tags": []
   },
   "outputs": [
    {
     "data": {
      "text/plain": [
       "\"i'm going to change the light bulb. it burnt out.\""
      ]
     },
     "execution_count": 24,
     "metadata": {},
     "output_type": "execute_result"
    }
   ],
   "source": [
    "Pipe.predict(['What are you doing'])[0]"
   ]
  },
  {
   "cell_type": "markdown",
   "metadata": {
    "papermill": {
     "duration": 0.007682,
     "end_time": "2020-09-04T08:35:34.041494",
     "exception": false,
     "start_time": "2020-09-04T08:35:34.033812",
     "status": "completed"
    },
    "tags": []
   },
   "source": [
    "This is my Chatbot !\n",
    "feel free to copy and edit it or make a new better one\n",
    "and upvote if it was helpful"
   ]
  }
 ],
 "metadata": {
  "kernelspec": {
   "display_name": "Python 3 (ipykernel)",
   "language": "python",
   "name": "python3"
  },
  "language_info": {
   "codemirror_mode": {
    "name": "ipython",
    "version": 3
   },
   "file_extension": ".py",
   "mimetype": "text/x-python",
   "name": "python",
   "nbconvert_exporter": "python",
   "pygments_lexer": "ipython3",
   "version": "3.9.13"
  },
  "papermill": {
   "duration": 18.829368,
   "end_time": "2020-09-04T08:35:34.156977",
   "environment_variables": {},
   "exception": null,
   "input_path": "__notebook__.ipynb",
   "output_path": "__notebook__.ipynb",
   "parameters": {},
   "start_time": "2020-09-04T08:35:15.327609",
   "version": "2.1.0"
  }
 },
 "nbformat": 4,
 "nbformat_minor": 4
}
