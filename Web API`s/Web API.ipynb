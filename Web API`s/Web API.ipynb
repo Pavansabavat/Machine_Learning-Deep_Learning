{
 "cells": [
  {
   "cell_type": "code",
   "execution_count": 1,
   "id": "d0e09c73",
   "metadata": {},
   "outputs": [],
   "source": [
    "import pandas as pd\n",
    "import  numpy as np"
   ]
  },
  {
   "cell_type": "markdown",
   "id": "b578f95c",
   "metadata": {},
   "source": [
    "### Definition\n",
    "\n",
    "### Application Program Interfaces, or APIs, are commonly used to retrieve data from remote websites.\n",
    "### To use an API, you make a request to a remote web server, and retrieve the data you need."
   ]
  },
  {
   "cell_type": "markdown",
   "id": "61ab19a6",
   "metadata": {},
   "source": [
    "# Definition\n",
    "\n",
    "### Application Program Interfaces, or APIs, are commonly used to retrieve data from remote websites.\n",
    "#### To use an API, you make a request to a remote web server, and retrieve the data you need.\n",
    "\n",
    "## Why use API?\n",
    "\n",
    "#### Quickly changing data. Eg - Stock Market Data.\n",
    "#### In case you want a small piece of a much larger dataset. Eg - Twitter.\n",
    "\n",
    "### API Request\n",
    "\n",
    "#### In order to get the data, we make a request to a webserver.\n",
    "##### The server then replies with our data.\n",
    "#### In Python, we'll use the requests module to do this.\n",
    "#### There are many different types of requests.\n",
    "#### The most commonly used one, a GET request, is used to retrieve data"
   ]
  },
  {
   "cell_type": "code",
   "execution_count": 2,
   "id": "c0443f3d",
   "metadata": {},
   "outputs": [],
   "source": [
    "import requests\n",
    "response=requests.get(\"http://api.open-notify.org/iss-now.json\")"
   ]
  },
  {
   "cell_type": "code",
   "execution_count": 3,
   "id": "1f9aebc1",
   "metadata": {},
   "outputs": [
    {
     "data": {
      "text/plain": [
       "'http://api.open-notify.org/iss-now.json'"
      ]
     },
     "execution_count": 3,
     "metadata": {},
     "output_type": "execute_result"
    }
   ],
   "source": [
    "response.url"
   ]
  },
  {
   "cell_type": "code",
   "execution_count": 4,
   "id": "ed60d6c3",
   "metadata": {},
   "outputs": [
    {
     "data": {
      "text/plain": [
       "200"
      ]
     },
     "execution_count": 4,
     "metadata": {},
     "output_type": "execute_result"
    }
   ],
   "source": [
    "response.status_code"
   ]
  },
  {
   "cell_type": "code",
   "execution_count": 5,
   "id": "def7045b",
   "metadata": {},
   "outputs": [
    {
     "data": {
      "text/plain": [
       "{'Server': 'nginx/1.10.3', 'Date': 'Wed, 07 Dec 2022 09:25:02 GMT', 'Content-Type': 'application/json', 'Content-Length': '112', 'Connection': 'keep-alive', 'access-control-allow-origin': '*'}"
      ]
     },
     "execution_count": 5,
     "metadata": {},
     "output_type": "execute_result"
    }
   ],
   "source": [
    "response.headers"
   ]
  },
  {
   "cell_type": "code",
   "execution_count": 6,
   "id": "0672c66d",
   "metadata": {},
   "outputs": [
    {
     "data": {
      "text/plain": [
       "'application/json'"
      ]
     },
     "execution_count": 6,
     "metadata": {},
     "output_type": "execute_result"
    }
   ],
   "source": [
    "response.headers['Content-Type']"
   ]
  },
  {
   "cell_type": "code",
   "execution_count": 7,
   "id": "0d4db737",
   "metadata": {},
   "outputs": [
    {
     "data": {
      "text/plain": [
       "'utf-8'"
      ]
     },
     "execution_count": 7,
     "metadata": {},
     "output_type": "execute_result"
    }
   ],
   "source": [
    "response.encoding"
   ]
  },
  {
   "cell_type": "code",
   "execution_count": 8,
   "id": "4b15d6c7",
   "metadata": {},
   "outputs": [
    {
     "data": {
      "text/plain": [
       "'{\"message\": \"success\", \"iss_position\": {\"latitude\": \"3.9234\", \"longitude\": \"158.0390\"}, \"timestamp\": 1670405102}'"
      ]
     },
     "execution_count": 8,
     "metadata": {},
     "output_type": "execute_result"
    }
   ],
   "source": [
    "response.text"
   ]
  },
  {
   "cell_type": "code",
   "execution_count": 9,
   "id": "f4ac6ef9",
   "metadata": {},
   "outputs": [
    {
     "data": {
      "text/plain": [
       "b'{\"message\": \"success\", \"iss_position\": {\"latitude\": \"3.9234\", \"longitude\": \"158.0390\"}, \"timestamp\": 1670405102}'"
      ]
     },
     "execution_count": 9,
     "metadata": {},
     "output_type": "execute_result"
    }
   ],
   "source": [
    "response.content"
   ]
  },
  {
   "cell_type": "code",
   "execution_count": 10,
   "id": "603c533f",
   "metadata": {},
   "outputs": [
    {
     "data": {
      "text/plain": [
       "{'message': 'success',\n",
       " 'iss_position': {'latitude': '3.9234', 'longitude': '158.0390'},\n",
       " 'timestamp': 1670405102}"
      ]
     },
     "execution_count": 10,
     "metadata": {},
     "output_type": "execute_result"
    }
   ],
   "source": [
    "response.json()"
   ]
  },
  {
   "cell_type": "markdown",
   "id": "97e4937b",
   "metadata": {},
   "source": [
    "## Example 2"
   ]
  },
  {
   "cell_type": "code",
   "execution_count": 11,
   "id": "8cf33f46",
   "metadata": {},
   "outputs": [],
   "source": [
    "import requests"
   ]
  },
  {
   "cell_type": "code",
   "execution_count": 12,
   "id": "24496894",
   "metadata": {},
   "outputs": [],
   "source": [
    "response=requests.get(\"https://google.com/search?q=thataiguy\")"
   ]
  },
  {
   "cell_type": "code",
   "execution_count": 13,
   "id": "7eec9162",
   "metadata": {},
   "outputs": [
    {
     "data": {
      "text/plain": [
       "'https://www.google.com/search?q=thataiguy'"
      ]
     },
     "execution_count": 13,
     "metadata": {},
     "output_type": "execute_result"
    }
   ],
   "source": [
    "response.url"
   ]
  },
  {
   "cell_type": "code",
   "execution_count": 14,
   "id": "a22d4171",
   "metadata": {},
   "outputs": [
    {
     "data": {
      "text/plain": [
       "200"
      ]
     },
     "execution_count": 14,
     "metadata": {},
     "output_type": "execute_result"
    }
   ],
   "source": [
    "response.status_code"
   ]
  },
  {
   "cell_type": "code",
   "execution_count": 15,
   "id": "9a4e371e",
   "metadata": {},
   "outputs": [
    {
     "data": {
      "text/plain": [
       "{'Content-Type': 'text/html; charset=ISO-8859-1', 'Date': 'Wed, 07 Dec 2022 09:25:04 GMT', 'Expires': '-1', 'Cache-Control': 'private, max-age=0', 'Content-Security-Policy': \"object-src 'none';base-uri 'self';script-src 'nonce-ttRY9uGmdTGpTa2sP32sgQ' 'strict-dynamic' 'report-sample' 'unsafe-eval' 'unsafe-inline' https: http:;report-uri https://csp.withgoogle.com/csp/gws/xsrp\", 'Cross-Origin-Opener-Policy-Report-Only': 'same-origin-allow-popups; report-to=\"gws\"', 'Report-To': '{\"group\":\"gws\",\"max_age\":2592000,\"endpoints\":[{\"url\":\"https://csp.withgoogle.com/csp/report-to/gws/xsrp\"}]}', 'P3P': 'CP=\"This is not a P3P policy! See g.co/p3phelp for more info.\"', 'Content-Encoding': 'gzip', 'Server': 'gws', 'X-XSS-Protection': '0', 'X-Frame-Options': 'SAMEORIGIN', 'Set-Cookie': '1P_JAR=2022-12-07-09; expires=Fri, 06-Jan-2023 09:25:04 GMT; path=/; domain=.google.com; Secure, AEC=AakniGMyGGuY9-1bAlYzBJenvsPbhjCITLdJZRDp3zElaqXMWgsXLsUIIw; expires=Mon, 05-Jun-2023 09:25:04 GMT; path=/; domain=.google.com; Secure; HttpOnly; SameSite=lax, NID=511=mezkdepxNH-an-qEYZYCIBAk-gnrpaudww-3aRUydyqA1wCOzQ3SdcRaJgMcl-ERw5LpH_tysoJO5_3IWpUIy4AAVsYKCSChrtv4aT5RA0BDgl4OWfnhiOspLWcdJZi-cd2AQXzdLVriIYWjwOgqxx3hiYFohu63zPuiJJx-DWc; expires=Thu, 08-Jun-2023 09:25:04 GMT; path=/; domain=.google.com; HttpOnly', 'Alt-Svc': 'h3=\":443\"; ma=2592000,h3-29=\":443\"; ma=2592000,h3-Q050=\":443\"; ma=2592000,h3-Q046=\":443\"; ma=2592000,h3-Q043=\":443\"; ma=2592000,quic=\":443\"; ma=2592000; v=\"46,43\"', 'Transfer-Encoding': 'chunked'}"
      ]
     },
     "execution_count": 15,
     "metadata": {},
     "output_type": "execute_result"
    }
   ],
   "source": [
    "response.headers"
   ]
  },
  {
   "cell_type": "code",
   "execution_count": 16,
   "id": "ac471127",
   "metadata": {},
   "outputs": [
    {
     "data": {
      "text/plain": [
       "'text/html; charset=ISO-8859-1'"
      ]
     },
     "execution_count": 16,
     "metadata": {},
     "output_type": "execute_result"
    }
   ],
   "source": [
    "response.headers['Content-Type']"
   ]
  },
  {
   "cell_type": "code",
   "execution_count": 17,
   "id": "e38dec49",
   "metadata": {},
   "outputs": [
    {
     "data": {
      "text/plain": [
       "'ISO-8859-1'"
      ]
     },
     "execution_count": 17,
     "metadata": {},
     "output_type": "execute_result"
    }
   ],
   "source": [
    "response.encoding"
   ]
  },
  {
   "cell_type": "code",
   "execution_count": 18,
   "id": "e1b945d9",
   "metadata": {},
   "outputs": [],
   "source": [
    "\n",
    "# # Response Content\n",
    "# response.text\n",
    "\n",
    "\n",
    "\n",
    "\n",
    "# # Binary Response Content\n",
    "# # This is useful if the response body contains non-text data\n",
    "# response.content\n",
    "\n",
    "\n",
    "\n",
    "\n",
    "\n",
    "## JSON Response Content\n",
    "# response.json()\n",
    "## Generates Error     becoz   it  is  html  file\n"
   ]
  },
  {
   "cell_type": "markdown",
   "id": "6e58db13",
   "metadata": {},
   "source": [
    "# Status Code\n",
    "## Here are some codes that are relevant to GET requests:\n",
    "\n",
    "#### 200 - everything went okay, and the result has been returned (if any).\n",
    "##### 301 - the server is redirecting you to a different endpoint. This can happen when a company switches domain names, or an endpoint name is changed.\n",
    "#### 401 - the server thinks you're not authenticated. This happens when you don't send the right credentials to access an API (we'll talk about authentication in a later post).\n",
    "#### 400 - the server thinks you made a bad request. This can happen when you don't send along the right data, among other things.\n",
    "#### 403 - the resource you're trying to access is forbidden -- you don't have the right permissions to see it.\n",
    "#### 404 - the resource you tried to access wasn't found on the server.\n",
    "\n",
    "### Remember\n",
    "\n",
    "#### 2xx - Success\n",
    "#### 3xx - Redirection\n",
    "#### 4xx - Client Error\n",
    "#####  5xx - Server Error"
   ]
  },
  {
   "cell_type": "code",
   "execution_count": 19,
   "id": "9ad27bc6",
   "metadata": {},
   "outputs": [
    {
     "name": "stdout",
     "output_type": "stream",
     "text": [
      "404\n"
     ]
    },
    {
     "data": {
      "text/plain": [
       "b''"
      ]
     },
     "execution_count": 19,
     "metadata": {},
     "output_type": "execute_result"
    }
   ],
   "source": [
    "# Try the endpoint that doesnot exist\n",
    "\n",
    "response = requests.get(\"http://api.open-notify.org/astro\")\n",
    "print(response.status_code)\n",
    "response.content\n",
    "\n",
    "# response.json() # Generates error\n"
   ]
  },
  {
   "cell_type": "code",
   "execution_count": 20,
   "id": "4a2c5662",
   "metadata": {},
   "outputs": [
    {
     "name": "stdout",
     "output_type": "stream",
     "text": [
      "200\n"
     ]
    },
    {
     "data": {
      "text/plain": [
       "{'people': [{'craft': 'Tiangong', 'name': 'Cai Xuzhe'},\n",
       "  {'craft': 'Tiangong', 'name': 'Chen Dong'},\n",
       "  {'craft': 'Tiangong', 'name': 'Liu Yang'},\n",
       "  {'craft': 'ISS', 'name': 'Sergey Prokopyev'},\n",
       "  {'craft': 'ISS', 'name': 'Dmitry Petelin'},\n",
       "  {'craft': 'ISS', 'name': 'Frank Rubio'},\n",
       "  {'craft': 'ISS', 'name': 'Nicole Mann'},\n",
       "  {'craft': 'ISS', 'name': 'Josh Cassada'},\n",
       "  {'craft': 'ISS', 'name': 'Koichi Wakata'},\n",
       "  {'craft': 'ISS', 'name': 'Anna Kikina'},\n",
       "  {'craft': 'Shenzhou 15', 'name': 'Fei Junlong'},\n",
       "  {'craft': 'Shenzhou 15', 'name': 'Deng Qingming'},\n",
       "  {'craft': 'Shenzhou 15', 'name': 'Zhang Lu'}],\n",
       " 'number': 13,\n",
       " 'message': 'success'}"
      ]
     },
     "execution_count": 20,
     "metadata": {},
     "output_type": "execute_result"
    }
   ],
   "source": [
    "\n",
    "# Lets now add .json and try again\n",
    "\n",
    "response = requests.get(\"http://api.open-notify.org/astros.json\")\n",
    "print(response.status_code)\n",
    "response.json()\n"
   ]
  },
  {
   "cell_type": "markdown",
   "id": "171f593a",
   "metadata": {},
   "source": [
    "## Finding the Number of People in Space\n"
   ]
  },
  {
   "cell_type": "code",
   "execution_count": 21,
   "id": "403ee501",
   "metadata": {},
   "outputs": [],
   "source": [
    "\n",
    "# Get the response from the API endpoint.\n",
    "response = requests.get(\"http://api.open-notify.org/astros.json\")\n",
    "data = response.json()\n"
   ]
  },
  {
   "cell_type": "code",
   "execution_count": 22,
   "id": "1f9bbb08",
   "metadata": {},
   "outputs": [
    {
     "name": "stdout",
     "output_type": "stream",
     "text": [
      "<class 'dict'>\n"
     ]
    }
   ],
   "source": [
    "print(type(data))"
   ]
  },
  {
   "cell_type": "code",
   "execution_count": 23,
   "id": "b67d1b46",
   "metadata": {},
   "outputs": [
    {
     "name": "stdout",
     "output_type": "stream",
     "text": [
      "{'people': [{'craft': 'Tiangong', 'name': 'Cai Xuzhe'}, {'craft': 'Tiangong', 'name': 'Chen Dong'}, {'craft': 'Tiangong', 'name': 'Liu Yang'}, {'craft': 'ISS', 'name': 'Sergey Prokopyev'}, {'craft': 'ISS', 'name': 'Dmitry Petelin'}, {'craft': 'ISS', 'name': 'Frank Rubio'}, {'craft': 'ISS', 'name': 'Nicole Mann'}, {'craft': 'ISS', 'name': 'Josh Cassada'}, {'craft': 'ISS', 'name': 'Koichi Wakata'}, {'craft': 'ISS', 'name': 'Anna Kikina'}, {'craft': 'Shenzhou 15', 'name': 'Fei Junlong'}, {'craft': 'Shenzhou 15', 'name': 'Deng Qingming'}, {'craft': 'Shenzhou 15', 'name': 'Zhang Lu'}], 'number': 13, 'message': 'success'}\n"
     ]
    }
   ],
   "source": [
    "print(data)"
   ]
  },
  {
   "cell_type": "code",
   "execution_count": 24,
   "id": "35e961b9",
   "metadata": {},
   "outputs": [
    {
     "name": "stdout",
     "output_type": "stream",
     "text": [
      "dict_keys(['people', 'number', 'message'])\n",
      "dict_values([[{'craft': 'Tiangong', 'name': 'Cai Xuzhe'}, {'craft': 'Tiangong', 'name': 'Chen Dong'}, {'craft': 'Tiangong', 'name': 'Liu Yang'}, {'craft': 'ISS', 'name': 'Sergey Prokopyev'}, {'craft': 'ISS', 'name': 'Dmitry Petelin'}, {'craft': 'ISS', 'name': 'Frank Rubio'}, {'craft': 'ISS', 'name': 'Nicole Mann'}, {'craft': 'ISS', 'name': 'Josh Cassada'}, {'craft': 'ISS', 'name': 'Koichi Wakata'}, {'craft': 'ISS', 'name': 'Anna Kikina'}, {'craft': 'Shenzhou 15', 'name': 'Fei Junlong'}, {'craft': 'Shenzhou 15', 'name': 'Deng Qingming'}, {'craft': 'Shenzhou 15', 'name': 'Zhang Lu'}], 13, 'success'])\n"
     ]
    }
   ],
   "source": [
    "print(data.keys())\n",
    "print(data.values())"
   ]
  },
  {
   "cell_type": "code",
   "execution_count": 25,
   "id": "13545062",
   "metadata": {},
   "outputs": [
    {
     "name": "stdout",
     "output_type": "stream",
     "text": [
      "13\n"
     ]
    }
   ],
   "source": [
    "print(data['number'])"
   ]
  },
  {
   "cell_type": "code",
   "execution_count": 26,
   "id": "1d9989d5",
   "metadata": {},
   "outputs": [
    {
     "name": "stdout",
     "output_type": "stream",
     "text": [
      "[{'craft': 'Tiangong', 'name': 'Cai Xuzhe'}, {'craft': 'Tiangong', 'name': 'Chen Dong'}, {'craft': 'Tiangong', 'name': 'Liu Yang'}, {'craft': 'ISS', 'name': 'Sergey Prokopyev'}, {'craft': 'ISS', 'name': 'Dmitry Petelin'}, {'craft': 'ISS', 'name': 'Frank Rubio'}, {'craft': 'ISS', 'name': 'Nicole Mann'}, {'craft': 'ISS', 'name': 'Josh Cassada'}, {'craft': 'ISS', 'name': 'Koichi Wakata'}, {'craft': 'ISS', 'name': 'Anna Kikina'}, {'craft': 'Shenzhou 15', 'name': 'Fei Junlong'}, {'craft': 'Shenzhou 15', 'name': 'Deng Qingming'}, {'craft': 'Shenzhou 15', 'name': 'Zhang Lu'}]\n"
     ]
    }
   ],
   "source": [
    "print(data['people'])"
   ]
  },
  {
   "cell_type": "code",
   "execution_count": 27,
   "id": "c3c63d5f",
   "metadata": {},
   "outputs": [
    {
     "name": "stdout",
     "output_type": "stream",
     "text": [
      "Cai Xuzhe\n",
      "Chen Dong\n",
      "Liu Yang\n",
      "Sergey Prokopyev\n",
      "Dmitry Petelin\n",
      "Frank Rubio\n",
      "Nicole Mann\n",
      "Josh Cassada\n",
      "Koichi Wakata\n",
      "Anna Kikina\n",
      "Fei Junlong\n",
      "Deng Qingming\n",
      "Zhang Lu\n"
     ]
    }
   ],
   "source": [
    "people_in_space=data['people']\n",
    "for astrounat  in people_in_space:\n",
    "    print(astrounat['name'])"
   ]
  },
  {
   "cell_type": "code",
   "execution_count": 28,
   "id": "452b5870",
   "metadata": {},
   "outputs": [
    {
     "name": "stdout",
     "output_type": "stream",
     "text": [
      "Tiangong\n",
      "Tiangong\n",
      "Tiangong\n",
      "ISS\n",
      "ISS\n",
      "ISS\n",
      "ISS\n",
      "ISS\n",
      "ISS\n",
      "ISS\n",
      "Shenzhou 15\n",
      "Shenzhou 15\n",
      "Shenzhou 15\n"
     ]
    }
   ],
   "source": [
    "people_in_space=data['people']\n",
    "for astrounats in people_in_space:\n",
    "    print(astrounats['craft'])"
   ]
  },
  {
   "cell_type": "markdown",
   "id": "b3bce434",
   "metadata": {},
   "source": [
    "### Extracting Crypto Data using Coingecko\n",
    "### Ping\n",
    "### Coin List\n",
    "### Coin History\n",
    "### Coin Market\n",
    "### Coin History\n",
    "### Coin Market Chart\n",
    "### Endpoint - /ping"
   ]
  },
  {
   "cell_type": "code",
   "execution_count": 29,
   "id": "88b23e35",
   "metadata": {},
   "outputs": [
    {
     "data": {
      "text/plain": [
       "200"
      ]
     },
     "execution_count": 29,
     "metadata": {},
     "output_type": "execute_result"
    }
   ],
   "source": [
    "import requests\n",
    "root_url=\"https://api.coingecko.com/api/v3\"\n",
    "endpoint='/ping'\n",
    "res=requests.get(root_url + endpoint)\n",
    "res.status_code"
   ]
  },
  {
   "cell_type": "code",
   "execution_count": 30,
   "id": "585697b4",
   "metadata": {},
   "outputs": [
    {
     "data": {
      "text/plain": [
       "{'Date': 'Wed, 07 Dec 2022 09:25:09 GMT', 'Content-Type': 'application/json; charset=utf-8', 'Transfer-Encoding': 'chunked', 'Connection': 'keep-alive', 'X-Frame-Options': 'SAMEORIGIN', 'X-XSS-Protection': '0', 'X-Content-Type-Options': 'nosniff', 'X-Download-Options': 'noopen', 'X-Permitted-Cross-Domain-Policies': 'none', 'Referrer-Policy': 'strict-origin-when-cross-origin', 'Access-Control-Allow-Origin': '*', 'Access-Control-Allow-Methods': 'POST, PUT, DELETE, GET, OPTIONS', 'Access-Control-Request-Method': '*', 'Access-Control-Allow-Headers': 'Origin, X-Requested-With, Content-Type, Accept, Authorization', 'Access-Control-Expose-Headers': 'link, per-page, total', 'Vary': 'Accept-Encoding, Origin', 'ETag': 'W/\"5dd74813e29fbf1c87939b34d0ae3697\"', 'Cache-Control': 'public, max-age=120', 'X-Request-Id': '86af8d52-8260-478a-acc0-964600b3a7a7', 'X-Runtime': '0.003239', 'Alternate-Protocol': '443:npn-spdy/2', 'CF-Cache-Status': 'MISS', 'Expires': 'Wed, 07 Dec 2022 09:27:09 GMT', 'Server': 'cloudflare', 'CF-RAY': '775c365a9a3d17a7-MAA', 'Content-Encoding': 'br'}"
      ]
     },
     "execution_count": 30,
     "metadata": {},
     "output_type": "execute_result"
    }
   ],
   "source": [
    "res.headers"
   ]
  },
  {
   "cell_type": "code",
   "execution_count": 31,
   "id": "a1ba0d45",
   "metadata": {},
   "outputs": [
    {
     "data": {
      "text/plain": [
       "'application/json; charset=utf-8'"
      ]
     },
     "execution_count": 31,
     "metadata": {},
     "output_type": "execute_result"
    }
   ],
   "source": [
    "res.headers['Date']\n",
    "res.headers['Content-Type']"
   ]
  },
  {
   "cell_type": "code",
   "execution_count": 32,
   "id": "f7cd34f8",
   "metadata": {},
   "outputs": [
    {
     "data": {
      "text/plain": [
       "'{\"gecko_says\":\"(V3) To the Moon!\"}'"
      ]
     },
     "execution_count": 32,
     "metadata": {},
     "output_type": "execute_result"
    }
   ],
   "source": [
    "res.text"
   ]
  },
  {
   "cell_type": "markdown",
   "id": "be02f005",
   "metadata": {},
   "source": [
    "## Endpoint - /coin/list\n"
   ]
  },
  {
   "cell_type": "code",
   "execution_count": 33,
   "id": "9cbcd2bf",
   "metadata": {},
   "outputs": [
    {
     "data": {
      "text/plain": [
       "[{'id': '01coin', 'symbol': 'zoc', 'name': '01coin'},\n",
       " {'id': '0-5x-long-algorand-token',\n",
       "  'symbol': 'algohalf',\n",
       "  'name': '0.5X Long Algorand'},\n",
       " {'id': '0-5x-long-altcoin-index-token',\n",
       "  'symbol': 'althalf',\n",
       "  'name': '0.5X Long Altcoin Index'},\n",
       " {'id': '0-5x-long-bitcoin-token',\n",
       "  'symbol': 'half',\n",
       "  'name': '0.5X Long Bitcoin'},\n",
       " {'id': '0-5x-long-cardano-token',\n",
       "  'symbol': 'adahalf',\n",
       "  'name': '0.5X Long Cardano'},\n",
       " {'id': '0-5x-long-chainlink-token',\n",
       "  'symbol': 'linkhalf',\n",
       "  'name': '0.5X Long Chainlink'},\n",
       " {'id': '0-5x-long-dogecoin-token',\n",
       "  'symbol': 'dogehalf',\n",
       "  'name': '0.5X Long Dogecoin'},\n",
       " {'id': '0-5x-long-eos-token', 'symbol': 'eoshalf', 'name': '0.5X Long EOS'},\n",
       " {'id': '0-5x-long-ethereum-classic-token',\n",
       "  'symbol': 'etchalf',\n",
       "  'name': '0.5X Long Ethereum Classic'},\n",
       " {'id': '0-5x-long-ethereum-token',\n",
       "  'symbol': 'ethhalf',\n",
       "  'name': '0.5X Long Ethereum'}]"
      ]
     },
     "execution_count": 33,
     "metadata": {},
     "output_type": "execute_result"
    }
   ],
   "source": [
    "import requests\n",
    "root_url=\"https://api.coingecko.com/api/v3\"\n",
    "endpoint='/coins/list'\n",
    "\n",
    "res=requests.get(root_url + endpoint)\n",
    "\n",
    "res.json()[:10]"
   ]
  },
  {
   "cell_type": "code",
   "execution_count": 34,
   "id": "0316112d",
   "metadata": {},
   "outputs": [
    {
     "name": "stdout",
     "output_type": "stream",
     "text": [
      "<class 'method'>\n"
     ]
    }
   ],
   "source": [
    "data=res.json\n",
    "print(type(data))"
   ]
  },
  {
   "cell_type": "code",
   "execution_count": 35,
   "id": "8af68335",
   "metadata": {},
   "outputs": [
    {
     "data": {
      "text/html": [
       "<div>\n",
       "<style scoped>\n",
       "    .dataframe tbody tr th:only-of-type {\n",
       "        vertical-align: middle;\n",
       "    }\n",
       "\n",
       "    .dataframe tbody tr th {\n",
       "        vertical-align: top;\n",
       "    }\n",
       "\n",
       "    .dataframe thead th {\n",
       "        text-align: right;\n",
       "    }\n",
       "</style>\n",
       "<table border=\"1\" class=\"dataframe\">\n",
       "  <thead>\n",
       "    <tr style=\"text-align: right;\">\n",
       "      <th></th>\n",
       "      <th>id</th>\n",
       "      <th>symbol</th>\n",
       "      <th>name</th>\n",
       "    </tr>\n",
       "  </thead>\n",
       "  <tbody>\n",
       "    <tr>\n",
       "      <th>0</th>\n",
       "      <td>01coin</td>\n",
       "      <td>zoc</td>\n",
       "      <td>01coin</td>\n",
       "    </tr>\n",
       "    <tr>\n",
       "      <th>1</th>\n",
       "      <td>0-5x-long-algorand-token</td>\n",
       "      <td>algohalf</td>\n",
       "      <td>0.5X Long Algorand</td>\n",
       "    </tr>\n",
       "    <tr>\n",
       "      <th>2</th>\n",
       "      <td>0-5x-long-altcoin-index-token</td>\n",
       "      <td>althalf</td>\n",
       "      <td>0.5X Long Altcoin Index</td>\n",
       "    </tr>\n",
       "    <tr>\n",
       "      <th>3</th>\n",
       "      <td>0-5x-long-bitcoin-token</td>\n",
       "      <td>half</td>\n",
       "      <td>0.5X Long Bitcoin</td>\n",
       "    </tr>\n",
       "    <tr>\n",
       "      <th>4</th>\n",
       "      <td>0-5x-long-cardano-token</td>\n",
       "      <td>adahalf</td>\n",
       "      <td>0.5X Long Cardano</td>\n",
       "    </tr>\n",
       "  </tbody>\n",
       "</table>\n",
       "</div>"
      ],
      "text/plain": [
       "                              id    symbol                     name\n",
       "0                         01coin       zoc                   01coin\n",
       "1       0-5x-long-algorand-token  algohalf       0.5X Long Algorand\n",
       "2  0-5x-long-altcoin-index-token   althalf  0.5X Long Altcoin Index\n",
       "3        0-5x-long-bitcoin-token      half        0.5X Long Bitcoin\n",
       "4        0-5x-long-cardano-token   adahalf        0.5X Long Cardano"
      ]
     },
     "execution_count": 35,
     "metadata": {},
     "output_type": "execute_result"
    }
   ],
   "source": [
    "import pandas as pd\n",
    "df=pd.read_json(\"https://api.coingecko.com/api/v3/coins/list\")\n",
    "df.head()"
   ]
  },
  {
   "cell_type": "code",
   "execution_count": 36,
   "id": "6c0c22a2",
   "metadata": {},
   "outputs": [
    {
     "data": {
      "text/plain": [
       "(13081, 3)"
      ]
     },
     "execution_count": 36,
     "metadata": {},
     "output_type": "execute_result"
    }
   ],
   "source": [
    "df.shape"
   ]
  },
  {
   "cell_type": "code",
   "execution_count": 37,
   "id": "a2411013",
   "metadata": {},
   "outputs": [
    {
     "data": {
      "text/html": [
       "<div>\n",
       "<style scoped>\n",
       "    .dataframe tbody tr th:only-of-type {\n",
       "        vertical-align: middle;\n",
       "    }\n",
       "\n",
       "    .dataframe tbody tr th {\n",
       "        vertical-align: top;\n",
       "    }\n",
       "\n",
       "    .dataframe thead th {\n",
       "        text-align: right;\n",
       "    }\n",
       "</style>\n",
       "<table border=\"1\" class=\"dataframe\">\n",
       "  <thead>\n",
       "    <tr style=\"text-align: right;\">\n",
       "      <th></th>\n",
       "      <th>id</th>\n",
       "      <th>symbol</th>\n",
       "      <th>name</th>\n",
       "    </tr>\n",
       "  </thead>\n",
       "  <tbody>\n",
       "    <tr>\n",
       "      <th>1455</th>\n",
       "      <td>binance-peg-dogecoin</td>\n",
       "      <td>doge</td>\n",
       "      <td>Binance-Peg Dogecoin</td>\n",
       "    </tr>\n",
       "    <tr>\n",
       "      <th>1518</th>\n",
       "      <td>bitcoin</td>\n",
       "      <td>btc</td>\n",
       "      <td>Bitcoin</td>\n",
       "    </tr>\n",
       "    <tr>\n",
       "      <th>3539</th>\n",
       "      <td>dogecoin</td>\n",
       "      <td>doge</td>\n",
       "      <td>Dogecoin</td>\n",
       "    </tr>\n",
       "    <tr>\n",
       "      <th>4088</th>\n",
       "      <td>ethereum</td>\n",
       "      <td>eth</td>\n",
       "      <td>Ethereum</td>\n",
       "    </tr>\n",
       "    <tr>\n",
       "      <th>4103</th>\n",
       "      <td>ethereum-wormhole</td>\n",
       "      <td>eth</td>\n",
       "      <td>Ethereum (Wormhole)</td>\n",
       "    </tr>\n",
       "  </tbody>\n",
       "</table>\n",
       "</div>"
      ],
      "text/plain": [
       "                        id symbol                  name\n",
       "1455  binance-peg-dogecoin   doge  Binance-Peg Dogecoin\n",
       "1518               bitcoin    btc               Bitcoin\n",
       "3539              dogecoin   doge              Dogecoin\n",
       "4088              ethereum    eth              Ethereum\n",
       "4103     ethereum-wormhole    eth   Ethereum (Wormhole)"
      ]
     },
     "execution_count": 37,
     "metadata": {},
     "output_type": "execute_result"
    }
   ],
   "source": [
    "df.loc[(df.symbol=='btc')| (df.symbol=='doge')|(df.symbol=='eth')]"
   ]
  },
  {
   "cell_type": "markdown",
   "id": "b62ac828",
   "metadata": {},
   "source": [
    "## Endpoint - /coins/markets\n"
   ]
  },
  {
   "cell_type": "code",
   "execution_count": 38,
   "id": "887d55ec",
   "metadata": {},
   "outputs": [
    {
     "data": {
      "text/plain": [
       "200"
      ]
     },
     "execution_count": 38,
     "metadata": {},
     "output_type": "execute_result"
    }
   ],
   "source": [
    "import requests\n",
    "\n",
    "ROOT_URL = \"https://api.coingecko.com/api/v3\"\n",
    "endpoint = \"/coins/markets\"\n",
    "payload = {'vs_currency': 'usd', 'ids': 'bitcoin, dogecoin, ethereum'}\n",
    "res = requests.get(ROOT_URL + endpoint, params=payload)\n",
    "\n",
    "res.status_code"
   ]
  },
  {
   "cell_type": "code",
   "execution_count": 39,
   "id": "e5c6edc5",
   "metadata": {},
   "outputs": [
    {
     "data": {
      "text/plain": [
       "[{'id': 'bitcoin',\n",
       "  'symbol': 'btc',\n",
       "  'name': 'Bitcoin',\n",
       "  'image': 'https://assets.coingecko.com/coins/images/1/large/bitcoin.png?1547033579',\n",
       "  'current_price': 16813.62,\n",
       "  'market_cap': 323101658329,\n",
       "  'market_cap_rank': 1,\n",
       "  'fully_diluted_valuation': 352901684892,\n",
       "  'total_volume': 22895501164,\n",
       "  'high_24h': 17114.69,\n",
       "  'low_24h': 16750.0,\n",
       "  'price_change_24h': -203.2495912380764,\n",
       "  'price_change_percentage_24h': -1.1944,\n",
       "  'market_cap_change_24h': -4224465914.278076,\n",
       "  'market_cap_change_percentage_24h': -1.2906,\n",
       "  'circulating_supply': 19226700.0,\n",
       "  'total_supply': 21000000.0,\n",
       "  'max_supply': 21000000.0,\n",
       "  'ath': 69045,\n",
       "  'ath_change_percentage': -75.66095,\n",
       "  'ath_date': '2021-11-10T14:24:11.849Z',\n",
       "  'atl': 67.81,\n",
       "  'atl_change_percentage': 24682.61313,\n",
       "  'atl_date': '2013-07-06T00:00:00.000Z',\n",
       "  'roi': None,\n",
       "  'last_updated': '2022-12-07T09:24:58.446Z'},\n",
       " {'id': 'ethereum',\n",
       "  'symbol': 'eth',\n",
       "  'name': 'Ethereum',\n",
       "  'image': 'https://assets.coingecko.com/coins/images/279/large/ethereum.png?1595348880',\n",
       "  'current_price': 1229.3,\n",
       "  'market_cap': 148065033847,\n",
       "  'market_cap_rank': 2,\n",
       "  'fully_diluted_valuation': 148065033847,\n",
       "  'total_volume': 5749857821,\n",
       "  'high_24h': 1272.97,\n",
       "  'low_24h': 1224.02,\n",
       "  'price_change_24h': -31.713614065846286,\n",
       "  'price_change_percentage_24h': -2.51494,\n",
       "  'market_cap_change_24h': -4002202742.19812,\n",
       "  'market_cap_change_percentage_24h': -2.63186,\n",
       "  'circulating_supply': 120521322.036565,\n",
       "  'total_supply': 120521322.036565,\n",
       "  'max_supply': None,\n",
       "  'ath': 4878.26,\n",
       "  'ath_change_percentage': -74.82036,\n",
       "  'ath_date': '2021-11-10T14:24:19.604Z',\n",
       "  'atl': 0.432979,\n",
       "  'atl_change_percentage': 283592.50129,\n",
       "  'atl_date': '2015-10-20T00:00:00.000Z',\n",
       "  'roi': {'times': 96.78698035181058,\n",
       "   'currency': 'btc',\n",
       "   'percentage': 9678.698035181058},\n",
       "  'last_updated': '2022-12-07T09:24:54.519Z'},\n",
       " {'id': 'dogecoin',\n",
       "  'symbol': 'doge',\n",
       "  'name': 'Dogecoin',\n",
       "  'image': 'https://assets.coingecko.com/coins/images/5/large/dogecoin.png?1547792256',\n",
       "  'current_price': 0.095791,\n",
       "  'market_cap': 13130550573,\n",
       "  'market_cap_rank': 8,\n",
       "  'fully_diluted_valuation': None,\n",
       "  'total_volume': 913346664,\n",
       "  'high_24h': 0.101361,\n",
       "  'low_24h': 0.095387,\n",
       "  'price_change_24h': -0.005485234286554161,\n",
       "  'price_change_percentage_24h': -5.41611,\n",
       "  'market_cap_change_24h': -777559640.5798588,\n",
       "  'market_cap_change_percentage_24h': -5.59069,\n",
       "  'circulating_supply': 137204546383.705,\n",
       "  'total_supply': None,\n",
       "  'max_supply': None,\n",
       "  'ath': 0.731578,\n",
       "  'ath_change_percentage': -86.91861,\n",
       "  'ath_date': '2021-05-08T05:08:23.458Z',\n",
       "  'atl': 8.69e-05,\n",
       "  'atl_change_percentage': 110022.45404,\n",
       "  'atl_date': '2015-05-06T00:00:00.000Z',\n",
       "  'roi': None,\n",
       "  'last_updated': '2022-12-07T09:25:08.375Z'}]"
      ]
     },
     "execution_count": 39,
     "metadata": {},
     "output_type": "execute_result"
    }
   ],
   "source": [
    "res.json()"
   ]
  },
  {
   "cell_type": "markdown",
   "id": "f22381d8",
   "metadata": {},
   "source": [
    "## Endpoint - /coins/{id}/history\n"
   ]
  },
  {
   "cell_type": "code",
   "execution_count": 48,
   "id": "e5b4c871",
   "metadata": {},
   "outputs": [
    {
     "data": {
      "text/plain": [
       "200"
      ]
     },
     "execution_count": 48,
     "metadata": {},
     "output_type": "execute_result"
    }
   ],
   "source": [
    "import requests\n",
    "\n",
    "ROOT_URL = \"https://api.coingecko.com/api/v3\"\n",
    "uid = \"bitcoin\"\n",
    "endpoint = f\"/coins/{uid}/history\"\n",
    "payload = {'date': '03-12-2022'}\n",
    "res = requests.get(ROOT_URL + endpoint, params=payload)\n",
    "\n",
    "res.status_code"
   ]
  },
  {
   "cell_type": "code",
   "execution_count": 41,
   "id": "04ca5e9b",
   "metadata": {},
   "outputs": [
    {
     "data": {
      "text/plain": [
       "{'id': 'bitcoin',\n",
       " 'symbol': 'btc',\n",
       " 'name': 'Bitcoin',\n",
       " 'localization': {'en': 'Bitcoin',\n",
       "  'de': 'Bitcoin',\n",
       "  'es': 'Bitcoin',\n",
       "  'fr': 'Bitcoin',\n",
       "  'it': 'Bitcoin',\n",
       "  'pl': 'Bitcoin',\n",
       "  'ro': 'Bitcoin',\n",
       "  'hu': 'Bitcoin',\n",
       "  'nl': 'Bitcoin',\n",
       "  'pt': 'Bitcoin',\n",
       "  'sv': 'Bitcoin',\n",
       "  'vi': 'Bitcoin',\n",
       "  'tr': 'Bitcoin',\n",
       "  'ru': 'Биткоин',\n",
       "  'ja': 'ビットコイン',\n",
       "  'zh': '比特币',\n",
       "  'zh-tw': '比特幣',\n",
       "  'ko': '비트코인',\n",
       "  'ar': 'بيتكوين',\n",
       "  'th': 'บิตคอยน์',\n",
       "  'id': 'Bitcoin',\n",
       "  'cs': 'Bitcoin',\n",
       "  'da': 'Bitcoin',\n",
       "  'el': 'Bitcoin',\n",
       "  'hi': 'Bitcoin',\n",
       "  'no': 'Bitcoin',\n",
       "  'sk': 'Bitcoin',\n",
       "  'uk': 'Bitcoin',\n",
       "  'he': 'Bitcoin',\n",
       "  'fi': 'Bitcoin',\n",
       "  'bg': 'Bitcoin',\n",
       "  'hr': 'Bitcoin',\n",
       "  'lt': 'Bitcoin',\n",
       "  'sl': 'Bitcoin'},\n",
       " 'image': {'thumb': 'https://assets.coingecko.com/coins/images/1/thumb/bitcoin.png?1547033579',\n",
       "  'small': 'https://assets.coingecko.com/coins/images/1/small/bitcoin.png?1547033579'},\n",
       " 'market_data': {'current_price': {'aed': 62752.73977954881,\n",
       "   'ars': 2872478.387943467,\n",
       "   'aud': 25140.35695075591,\n",
       "   'bch': 152.54783391071712,\n",
       "   'bdt': 1751500.3649328984,\n",
       "   'bhd': 6441.185182964188,\n",
       "   'bmd': 17084.87334047068,\n",
       "   'bnb': 58.33547529565929,\n",
       "   'brl': 89172.78791325266,\n",
       "   'btc': 1.0,\n",
       "   'cad': 23011.479223293256,\n",
       "   'chf': 15991.441446680497,\n",
       "   'clp': 15094485.59630579,\n",
       "   'cny': 120014.40126747015,\n",
       "   'czk': 394942.4745749905,\n",
       "   'dkk': 120535.48990435479,\n",
       "   'dot': 3033.1274901900456,\n",
       "   'eos': 18103.82357602252,\n",
       "   'eth': 13.19910212750188,\n",
       "   'eur': 16214.672401747104,\n",
       "   'gbp': 13896.64804153212,\n",
       "   'hkd': 133095.43454060185,\n",
       "   'huf': 6645161.485776066,\n",
       "   'idr': 262700429.45774558,\n",
       "   'ils': 58191.93284131015,\n",
       "   'inr': 1391076.0146911354,\n",
       "   'jpy': 2294754.7124957927,\n",
       "   'krw': 22182145.30160005,\n",
       "   'kwd': 5244.031023124066,\n",
       "   'lkr': 6299996.848940683,\n",
       "   'ltc': 219.1401326048987,\n",
       "   'mmk': 35902214.753246084,\n",
       "   'mxn': 331297.9044070688,\n",
       "   'myr': 74959.8817813151,\n",
       "   'ngn': 7588588.191636857,\n",
       "   'nok': 166779.11657500695,\n",
       "   'nzd': 26636.85517639446,\n",
       "   'php': 953703.3084297038,\n",
       "   'pkr': 3821886.166263292,\n",
       "   'pln': 75805.65135116172,\n",
       "   'rub': 1067804.4129306844,\n",
       "   'sar': 64220.09121126841,\n",
       "   'sek': 176421.81908836812,\n",
       "   'sgd': 23103.874218318466,\n",
       "   'thb': 593215.9833448067,\n",
       "   'try': 318357.83842387004,\n",
       "   'twd': 521994.1351714007,\n",
       "   'uah': 628203.5316579364,\n",
       "   'usd': 17084.87334047068,\n",
       "   'vef': 1710.7083675813242,\n",
       "   'vnd': 418792957.75828683,\n",
       "   'xag': 737.8961921211285,\n",
       "   'xau': 9.502435703236383,\n",
       "   'xdr': 12943.653806600665,\n",
       "   'xlm': 193225.71150272954,\n",
       "   'xrp': 42958.100134134176,\n",
       "   'yfi': 2.505159929240537,\n",
       "   'zar': 299497.8296584508,\n",
       "   'bits': 1000330.6902296107,\n",
       "   'link': 2249.879992881639,\n",
       "   'sats': 100033069.02296107},\n",
       "  'market_cap': {'aed': 1205399137187.1968,\n",
       "   'ars': 55176602369548.65,\n",
       "   'aud': 482913808759.2389,\n",
       "   'bch': 2934402628.772508,\n",
       "   'bdt': 33644061376284.82,\n",
       "   'bhd': 123726853827.95604,\n",
       "   'bmd': 328178365692.1309,\n",
       "   'bnb': 1121156819.3527198,\n",
       "   'brl': 1712894161893.5095,\n",
       "   'btc': 19222812.0,\n",
       "   'cad': 442020815323.8067,\n",
       "   'chf': 307240585960.97314,\n",
       "   'clp': 289945586088998.0,\n",
       "   'cny': 2305321747640.936,\n",
       "   'czk': 7586335190522.144,\n",
       "   'dkk': 2315331187794.557,\n",
       "   'dot': 58247796406.822426,\n",
       "   'eos': 347693189044.9297,\n",
       "   'eth': 253909339.1857175,\n",
       "   'eur': 311462928813.96814,\n",
       "   'gbp': 266811636734.6288,\n",
       "   'hkd': 2556591513333.1323,\n",
       "   'huf': 127644975335954.33,\n",
       "   'idr': 5046136186555351,\n",
       "   'ils': 1117791922465.6833,\n",
       "   'inr': 26720774802201.902,\n",
       "   'jpy': 44079276223094.15,\n",
       "   'krw': 426090381096378.2,\n",
       "   'kwd': 100731067565.54265,\n",
       "   'lkr': 121014808160934.89,\n",
       "   'ltc': 4210254467.9113903,\n",
       "   'mmk': 689635206983842.0,\n",
       "   'mxn': 6363805142645.822,\n",
       "   'myr': 1439882579474.2249,\n",
       "   'ngn': 145766984689473.9,\n",
       "   'nok': 3203611570213.445,\n",
       "   'nzd': 511659608166.9448,\n",
       "   'php': 18319409625018.395,\n",
       "   'pkr': 73413500405329.66,\n",
       "   'pln': 1456128721289.4487,\n",
       "   'rub': 20511144573974.61,\n",
       "   'sar': 1233585064303.0322,\n",
       "   'sek': 3388835439810.075,\n",
       "   'sgd': 443795603925.46814,\n",
       "   'thb': 11394913385479.393,\n",
       "   'try': 6115243176648.961,\n",
       "   'twd': 10026833606991.678,\n",
       "   'uah': 12066979030694.238,\n",
       "   'usd': 328178365692.1309,\n",
       "   'vef': 32860499756.75317,\n",
       "   'vnd': 8044472189028364,\n",
       "   'xag': 14174033459.594116,\n",
       "   'xau': 182529525.2143063,\n",
       "   'xdr': 248630883453.649,\n",
       "   'xlm': 3709550451723.558,\n",
       "   'xrp': 826121751629.2966,\n",
       "   'yfi': 48092604.22359343,\n",
       "   'zar': 5752966750583.055,\n",
       "   'bits': 19224641632983.227,\n",
       "   'link': 43277577608.06625,\n",
       "   'sats': 1922464163298322.8},\n",
       "  'total_volume': {'aed': 76932576039.34265,\n",
       "   'ars': 3521554003509.0093,\n",
       "   'aud': 30821163021.16542,\n",
       "   'bch': 187018094.71907714,\n",
       "   'bdt': 2147275728223.2795,\n",
       "   'bhd': 7896658705.463817,\n",
       "   'bmd': 20945433171.615204,\n",
       "   'bnb': 71517170.4811702,\n",
       "   'brl': 109322593895.9284,\n",
       "   'btc': 1226369.0344187706,\n",
       "   'cad': 28211236375.383175,\n",
       "   'chf': 19604925448.631763,\n",
       "   'clp': 18505290207121.97,\n",
       "   'cny': 147133289857.32794,\n",
       "   'czk': 484185105911.64294,\n",
       "   'dkk': 147772125569.06256,\n",
       "   'dot': 3718503958.485555,\n",
       "   'eos': 22194629091.224213,\n",
       "   'eth': 16181619.027987381,\n",
       "   'eur': 19878598478.452106,\n",
       "   'gbp': 17036784942.026937,\n",
       "   'hkd': 163170160765.17554,\n",
       "   'huf': 8146726232099.729,\n",
       "   'idr': 322061169533390.1,\n",
       "   'ils': 71341192654.17996,\n",
       "   'inr': 1705408586982.67,\n",
       "   'jpy': 2813285794865.9243,\n",
       "   'krw': 27194503158366.53,\n",
       "   'kwd': 6428991257.695566,\n",
       "   'lkr': 7723566944350.441,\n",
       "   'ltc': 268657830.30548054,\n",
       "   'mmk': 44014809173082.02,\n",
       "   'mxn': 406159178260.7416,\n",
       "   'myr': 91898088040.46172,\n",
       "   'ngn': 9303333051836.32,\n",
       "   'nok': 204465129534.67368,\n",
       "   'nzd': 32655815403.533585,\n",
       "   'php': 1169205560625.6174,\n",
       "   'pkr': 4685493400490.323,\n",
       "   'pln': 92934970764.18932,\n",
       "   'rub': 1309089363771.6191,\n",
       "   'sar': 78731495512.71992,\n",
       "   'sek': 216286732016.7327,\n",
       "   'sgd': 28324509277.9752,\n",
       "   'thb': 727261214518.3362,\n",
       "   'try': 390295128121.9939,\n",
       "   'twd': 639945819692.3594,\n",
       "   'uah': 770154675911.1923,\n",
       "   'usd': 20945433171.615204,\n",
       "   'vef': 2097266223.4738245,\n",
       "   'vnd': 513424930619216.9,\n",
       "   'xag': 904633887.0450554,\n",
       "   'xau': 11649640.475720655,\n",
       "   'xdr': 15868448679.714241,\n",
       "   'xlm': 236887692794.96002,\n",
       "   'xrp': 52665067958.54732,\n",
       "   'yfi': 3071234.9361011055,\n",
       "   'zar': 367173443498.4143,\n",
       "   'bits': 1226369034418.7708,\n",
       "   'link': 2758271021.1510525,\n",
       "   'sats': 122636903441877.06}},\n",
       " 'community_data': {'facebook_likes': None,\n",
       "  'twitter_followers': 5669386,\n",
       "  'reddit_average_posts_48h': 7.5,\n",
       "  'reddit_average_comments_48h': 636.0,\n",
       "  'reddit_subscribers': 4732935,\n",
       "  'reddit_accounts_active_48h': '11755.5454545455'},\n",
       " 'developer_data': {'forks': None,\n",
       "  'stars': None,\n",
       "  'subscribers': None,\n",
       "  'total_issues': None,\n",
       "  'closed_issues': None,\n",
       "  'pull_requests_merged': None,\n",
       "  'pull_request_contributors': None,\n",
       "  'code_additions_deletions_4_weeks': {'additions': None, 'deletions': None},\n",
       "  'commit_count_4_weeks': None},\n",
       " 'public_interest_stats': {'alexa_rank': None, 'bing_matches': None}}"
      ]
     },
     "execution_count": 41,
     "metadata": {},
     "output_type": "execute_result"
    }
   ],
   "source": [
    "res.json()"
   ]
  },
  {
   "cell_type": "code",
   "execution_count": 42,
   "id": "87e4e593",
   "metadata": {},
   "outputs": [
    {
     "data": {
      "text/html": [
       "<div>\n",
       "<style scoped>\n",
       "    .dataframe tbody tr th:only-of-type {\n",
       "        vertical-align: middle;\n",
       "    }\n",
       "\n",
       "    .dataframe tbody tr th {\n",
       "        vertical-align: top;\n",
       "    }\n",
       "\n",
       "    .dataframe thead th {\n",
       "        text-align: right;\n",
       "    }\n",
       "</style>\n",
       "<table border=\"1\" class=\"dataframe\">\n",
       "  <thead>\n",
       "    <tr style=\"text-align: right;\">\n",
       "      <th></th>\n",
       "      <th>id</th>\n",
       "      <th>symbol</th>\n",
       "      <th>name</th>\n",
       "      <th>localization</th>\n",
       "      <th>image</th>\n",
       "      <th>market_data</th>\n",
       "      <th>community_data</th>\n",
       "      <th>developer_data</th>\n",
       "      <th>public_interest_stats</th>\n",
       "    </tr>\n",
       "  </thead>\n",
       "  <tbody>\n",
       "    <tr>\n",
       "      <th>en</th>\n",
       "      <td>bitcoin</td>\n",
       "      <td>btc</td>\n",
       "      <td>Bitcoin</td>\n",
       "      <td>Bitcoin</td>\n",
       "      <td>NaN</td>\n",
       "      <td>NaN</td>\n",
       "      <td>NaN</td>\n",
       "      <td>NaN</td>\n",
       "      <td>NaN</td>\n",
       "    </tr>\n",
       "    <tr>\n",
       "      <th>de</th>\n",
       "      <td>bitcoin</td>\n",
       "      <td>btc</td>\n",
       "      <td>Bitcoin</td>\n",
       "      <td>Bitcoin</td>\n",
       "      <td>NaN</td>\n",
       "      <td>NaN</td>\n",
       "      <td>NaN</td>\n",
       "      <td>NaN</td>\n",
       "      <td>NaN</td>\n",
       "    </tr>\n",
       "    <tr>\n",
       "      <th>es</th>\n",
       "      <td>bitcoin</td>\n",
       "      <td>btc</td>\n",
       "      <td>Bitcoin</td>\n",
       "      <td>Bitcoin</td>\n",
       "      <td>NaN</td>\n",
       "      <td>NaN</td>\n",
       "      <td>NaN</td>\n",
       "      <td>NaN</td>\n",
       "      <td>NaN</td>\n",
       "    </tr>\n",
       "    <tr>\n",
       "      <th>fr</th>\n",
       "      <td>bitcoin</td>\n",
       "      <td>btc</td>\n",
       "      <td>Bitcoin</td>\n",
       "      <td>Bitcoin</td>\n",
       "      <td>NaN</td>\n",
       "      <td>NaN</td>\n",
       "      <td>NaN</td>\n",
       "      <td>NaN</td>\n",
       "      <td>NaN</td>\n",
       "    </tr>\n",
       "    <tr>\n",
       "      <th>it</th>\n",
       "      <td>bitcoin</td>\n",
       "      <td>btc</td>\n",
       "      <td>Bitcoin</td>\n",
       "      <td>Bitcoin</td>\n",
       "      <td>NaN</td>\n",
       "      <td>NaN</td>\n",
       "      <td>NaN</td>\n",
       "      <td>NaN</td>\n",
       "      <td>NaN</td>\n",
       "    </tr>\n",
       "  </tbody>\n",
       "</table>\n",
       "</div>"
      ],
      "text/plain": [
       "         id symbol     name localization image market_data  community_data  \\\n",
       "en  bitcoin    btc  Bitcoin      Bitcoin   NaN         NaN             NaN   \n",
       "de  bitcoin    btc  Bitcoin      Bitcoin   NaN         NaN             NaN   \n",
       "es  bitcoin    btc  Bitcoin      Bitcoin   NaN         NaN             NaN   \n",
       "fr  bitcoin    btc  Bitcoin      Bitcoin   NaN         NaN             NaN   \n",
       "it  bitcoin    btc  Bitcoin      Bitcoin   NaN         NaN             NaN   \n",
       "\n",
       "   developer_data  public_interest_stats  \n",
       "en            NaN                    NaN  \n",
       "de            NaN                    NaN  \n",
       "es            NaN                    NaN  \n",
       "fr            NaN                    NaN  \n",
       "it            NaN                    NaN  "
      ]
     },
     "execution_count": 42,
     "metadata": {},
     "output_type": "execute_result"
    }
   ],
   "source": [
    "df = pd.read_json('https://api.coingecko.com/api/v3/coins/bitcoin/history?date=01-11-2022')\n",
    "\n",
    "df.head()"
   ]
  },
  {
   "cell_type": "code",
   "execution_count": 43,
   "id": "684ce682",
   "metadata": {},
   "outputs": [
    {
     "data": {
      "text/plain": [
       "(56, 9)"
      ]
     },
     "execution_count": 43,
     "metadata": {},
     "output_type": "execute_result"
    }
   ],
   "source": [
    "df.shape"
   ]
  },
  {
   "cell_type": "code",
   "execution_count": 55,
   "id": "01cadc56",
   "metadata": {},
   "outputs": [],
   "source": [
    "# file_name = 'data/bitcoin_history_01_11_2022.json'\n",
    "\n",
    "# data = res.json()\n",
    "\n",
    "# with open(file_name, 'w') as f:\n",
    "#     json.dump(data, f)"
   ]
  },
  {
   "cell_type": "code",
   "execution_count": 56,
   "id": "0d9742d5",
   "metadata": {},
   "outputs": [
    {
     "data": {
      "text/plain": [
       "dict_keys(['id', 'symbol', 'name', 'localization', 'image', 'market_data', 'community_data', 'developer_data', 'public_interest_stats'])"
      ]
     },
     "execution_count": 56,
     "metadata": {},
     "output_type": "execute_result"
    }
   ],
   "source": [
    "data.keys()"
   ]
  },
  {
   "cell_type": "code",
   "execution_count": 57,
   "id": "122cb861",
   "metadata": {},
   "outputs": [
    {
     "name": "stdout",
     "output_type": "stream",
     "text": [
      "{'current_price': {'aed': 62752.73977954881, 'ars': 2872478.387943467, 'aud': 25140.35695075591, 'bch': 152.54783391071712, 'bdt': 1751500.3649328984, 'bhd': 6441.185182964188, 'bmd': 17084.87334047068, 'bnb': 58.33547529565929, 'brl': 89172.78791325266, 'btc': 1.0, 'cad': 23011.479223293256, 'chf': 15991.441446680497, 'clp': 15094485.59630579, 'cny': 120014.40126747015, 'czk': 394942.4745749905, 'dkk': 120535.48990435479, 'dot': 3033.1274901900456, 'eos': 18103.82357602252, 'eth': 13.19910212750188, 'eur': 16214.672401747104, 'gbp': 13896.64804153212, 'hkd': 133095.43454060185, 'huf': 6645161.485776066, 'idr': 262700429.45774558, 'ils': 58191.93284131015, 'inr': 1391076.0146911354, 'jpy': 2294754.7124957927, 'krw': 22182145.30160005, 'kwd': 5244.031023124066, 'lkr': 6299996.848940683, 'ltc': 219.1401326048987, 'mmk': 35902214.753246084, 'mxn': 331297.9044070688, 'myr': 74959.8817813151, 'ngn': 7588588.191636857, 'nok': 166779.11657500695, 'nzd': 26636.85517639446, 'php': 953703.3084297038, 'pkr': 3821886.166263292, 'pln': 75805.65135116172, 'rub': 1067804.4129306844, 'sar': 64220.09121126841, 'sek': 176421.81908836812, 'sgd': 23103.874218318466, 'thb': 593215.9833448067, 'try': 318357.83842387004, 'twd': 521994.1351714007, 'uah': 628203.5316579364, 'usd': 17084.87334047068, 'vef': 1710.7083675813242, 'vnd': 418792957.75828683, 'xag': 737.8961921211285, 'xau': 9.502435703236383, 'xdr': 12943.653806600665, 'xlm': 193225.71150272954, 'xrp': 42958.100134134176, 'yfi': 2.505159929240537, 'zar': 299497.8296584508, 'bits': 1000330.6902296107, 'link': 2249.879992881639, 'sats': 100033069.02296107}, 'market_cap': {'aed': 1205399137187.1968, 'ars': 55176602369548.65, 'aud': 482913808759.2389, 'bch': 2934402628.772508, 'bdt': 33644061376284.82, 'bhd': 123726853827.95604, 'bmd': 328178365692.1309, 'bnb': 1121156819.3527198, 'brl': 1712894161893.5095, 'btc': 19222812.0, 'cad': 442020815323.8067, 'chf': 307240585960.97314, 'clp': 289945586088998.0, 'cny': 2305321747640.936, 'czk': 7586335190522.144, 'dkk': 2315331187794.557, 'dot': 58247796406.822426, 'eos': 347693189044.9297, 'eth': 253909339.1857175, 'eur': 311462928813.96814, 'gbp': 266811636734.6288, 'hkd': 2556591513333.1323, 'huf': 127644975335954.33, 'idr': 5046136186555351, 'ils': 1117791922465.6833, 'inr': 26720774802201.902, 'jpy': 44079276223094.15, 'krw': 426090381096378.2, 'kwd': 100731067565.54265, 'lkr': 121014808160934.89, 'ltc': 4210254467.9113903, 'mmk': 689635206983842.0, 'mxn': 6363805142645.822, 'myr': 1439882579474.2249, 'ngn': 145766984689473.9, 'nok': 3203611570213.445, 'nzd': 511659608166.9448, 'php': 18319409625018.395, 'pkr': 73413500405329.66, 'pln': 1456128721289.4487, 'rub': 20511144573974.61, 'sar': 1233585064303.0322, 'sek': 3388835439810.075, 'sgd': 443795603925.46814, 'thb': 11394913385479.393, 'try': 6115243176648.961, 'twd': 10026833606991.678, 'uah': 12066979030694.238, 'usd': 328178365692.1309, 'vef': 32860499756.75317, 'vnd': 8044472189028364, 'xag': 14174033459.594116, 'xau': 182529525.2143063, 'xdr': 248630883453.649, 'xlm': 3709550451723.558, 'xrp': 826121751629.2966, 'yfi': 48092604.22359343, 'zar': 5752966750583.055, 'bits': 19224641632983.227, 'link': 43277577608.06625, 'sats': 1922464163298322.8}, 'total_volume': {'aed': 76932576039.34265, 'ars': 3521554003509.0093, 'aud': 30821163021.16542, 'bch': 187018094.71907714, 'bdt': 2147275728223.2795, 'bhd': 7896658705.463817, 'bmd': 20945433171.615204, 'bnb': 71517170.4811702, 'brl': 109322593895.9284, 'btc': 1226369.0344187706, 'cad': 28211236375.383175, 'chf': 19604925448.631763, 'clp': 18505290207121.97, 'cny': 147133289857.32794, 'czk': 484185105911.64294, 'dkk': 147772125569.06256, 'dot': 3718503958.485555, 'eos': 22194629091.224213, 'eth': 16181619.027987381, 'eur': 19878598478.452106, 'gbp': 17036784942.026937, 'hkd': 163170160765.17554, 'huf': 8146726232099.729, 'idr': 322061169533390.1, 'ils': 71341192654.17996, 'inr': 1705408586982.67, 'jpy': 2813285794865.9243, 'krw': 27194503158366.53, 'kwd': 6428991257.695566, 'lkr': 7723566944350.441, 'ltc': 268657830.30548054, 'mmk': 44014809173082.02, 'mxn': 406159178260.7416, 'myr': 91898088040.46172, 'ngn': 9303333051836.32, 'nok': 204465129534.67368, 'nzd': 32655815403.533585, 'php': 1169205560625.6174, 'pkr': 4685493400490.323, 'pln': 92934970764.18932, 'rub': 1309089363771.6191, 'sar': 78731495512.71992, 'sek': 216286732016.7327, 'sgd': 28324509277.9752, 'thb': 727261214518.3362, 'try': 390295128121.9939, 'twd': 639945819692.3594, 'uah': 770154675911.1923, 'usd': 20945433171.615204, 'vef': 2097266223.4738245, 'vnd': 513424930619216.9, 'xag': 904633887.0450554, 'xau': 11649640.475720655, 'xdr': 15868448679.714241, 'xlm': 236887692794.96002, 'xrp': 52665067958.54732, 'yfi': 3071234.9361011055, 'zar': 367173443498.4143, 'bits': 1226369034418.7708, 'link': 2758271021.1510525, 'sats': 122636903441877.06}}\n"
     ]
    }
   ],
   "source": [
    "\n",
    "market_data = data['market_data']\n",
    "\n",
    "print(market_data)"
   ]
  },
  {
   "cell_type": "code",
   "execution_count": 58,
   "id": "0855bd11",
   "metadata": {},
   "outputs": [
    {
     "data": {
      "text/html": [
       "<div>\n",
       "<style scoped>\n",
       "    .dataframe tbody tr th:only-of-type {\n",
       "        vertical-align: middle;\n",
       "    }\n",
       "\n",
       "    .dataframe tbody tr th {\n",
       "        vertical-align: top;\n",
       "    }\n",
       "\n",
       "    .dataframe thead th {\n",
       "        text-align: right;\n",
       "    }\n",
       "</style>\n",
       "<table border=\"1\" class=\"dataframe\">\n",
       "  <thead>\n",
       "    <tr style=\"text-align: right;\">\n",
       "      <th></th>\n",
       "      <th>current_price</th>\n",
       "      <th>market_cap</th>\n",
       "      <th>total_volume</th>\n",
       "    </tr>\n",
       "  </thead>\n",
       "  <tbody>\n",
       "    <tr>\n",
       "      <th>aed</th>\n",
       "      <td>6.275274e+04</td>\n",
       "      <td>1.205399e+12</td>\n",
       "      <td>7.693258e+10</td>\n",
       "    </tr>\n",
       "    <tr>\n",
       "      <th>ars</th>\n",
       "      <td>2.872478e+06</td>\n",
       "      <td>5.517660e+13</td>\n",
       "      <td>3.521554e+12</td>\n",
       "    </tr>\n",
       "    <tr>\n",
       "      <th>aud</th>\n",
       "      <td>2.514036e+04</td>\n",
       "      <td>4.829138e+11</td>\n",
       "      <td>3.082116e+10</td>\n",
       "    </tr>\n",
       "    <tr>\n",
       "      <th>bch</th>\n",
       "      <td>1.525478e+02</td>\n",
       "      <td>2.934403e+09</td>\n",
       "      <td>1.870181e+08</td>\n",
       "    </tr>\n",
       "    <tr>\n",
       "      <th>bdt</th>\n",
       "      <td>1.751500e+06</td>\n",
       "      <td>3.364406e+13</td>\n",
       "      <td>2.147276e+12</td>\n",
       "    </tr>\n",
       "  </tbody>\n",
       "</table>\n",
       "</div>"
      ],
      "text/plain": [
       "     current_price    market_cap  total_volume\n",
       "aed   6.275274e+04  1.205399e+12  7.693258e+10\n",
       "ars   2.872478e+06  5.517660e+13  3.521554e+12\n",
       "aud   2.514036e+04  4.829138e+11  3.082116e+10\n",
       "bch   1.525478e+02  2.934403e+09  1.870181e+08\n",
       "bdt   1.751500e+06  3.364406e+13  2.147276e+12"
      ]
     },
     "execution_count": 58,
     "metadata": {},
     "output_type": "execute_result"
    }
   ],
   "source": [
    "df=pd.DataFrame(market_data)\n",
    "df.head()"
   ]
  },
  {
   "cell_type": "code",
   "execution_count": 59,
   "id": "dfe1da58",
   "metadata": {},
   "outputs": [
    {
     "data": {
      "text/plain": [
       "(61, 3)"
      ]
     },
     "execution_count": 59,
     "metadata": {},
     "output_type": "execute_result"
    }
   ],
   "source": [
    "df.shape"
   ]
  },
  {
   "cell_type": "markdown",
   "id": "004d02ea",
   "metadata": {},
   "source": [
    "## Endpoint - coins/{id}/market_chart\n",
    "## Get historical market data include price, market cap, and 24h volume (granularity auto)\n",
    "\n",
    "#### Data granularity is automatic (cannot be adjusted)\n",
    "#### 1 day from current time = 5 minute interval data\n",
    "#### 1 - 90 days from current time = hourly data\n",
    "#### Above 90 days from current time = daily data (00:00 UTC)"
   ]
  },
  {
   "cell_type": "code",
   "execution_count": 60,
   "id": "d4c1719b",
   "metadata": {},
   "outputs": [
    {
     "data": {
      "text/plain": [
       "200"
      ]
     },
     "execution_count": 60,
     "metadata": {},
     "output_type": "execute_result"
    }
   ],
   "source": [
    "import requests\n",
    "\n",
    "ROOT_URL = \"https://api.coingecko.com/api/v3\"\n",
    "uid = \"bitcoin\"\n",
    "endpoint = f\"/coins/{uid}/market_chart\"\n",
    "payload = {'vs_currency' : 'usd', 'days' : '1'}\n",
    "res = requests.get(ROOT_URL + endpoint, params=payload)\n",
    "\n",
    "res.status_code"
   ]
  },
  {
   "cell_type": "code",
   "execution_count": 61,
   "id": "07432bba",
   "metadata": {},
   "outputs": [
    {
     "data": {
      "text/plain": [
       "dict_keys(['prices', 'market_caps', 'total_volumes'])"
      ]
     },
     "execution_count": 61,
     "metadata": {},
     "output_type": "execute_result"
    }
   ],
   "source": [
    "data=res.json()\n",
    "data.keys()"
   ]
  },
  {
   "cell_type": "code",
   "execution_count": 62,
   "id": "e8dc5058",
   "metadata": {},
   "outputs": [
    {
     "data": {
      "text/plain": [
       "[[1670324090269, 16986.019293674282],\n",
       " [1670324434432, 16978.75133721155],\n",
       " [1670324693501, 16979.63869357469],\n",
       " [1670325003113, 16978.836420136133],\n",
       " [1670325326647, 16957.571688344502]]"
      ]
     },
     "execution_count": 62,
     "metadata": {},
     "output_type": "execute_result"
    }
   ],
   "source": [
    "res.json()['prices'][:5]"
   ]
  },
  {
   "cell_type": "code",
   "execution_count": 63,
   "id": "bbf4a54b",
   "metadata": {},
   "outputs": [
    {
     "data": {
      "text/plain": [
       "[[1670324090269, 326192771564.71124],\n",
       " [1670324434432, 326429201661.85944],\n",
       " [1670324693501, 326429201661.85944],\n",
       " [1670325003113, 326432562188.0742],\n",
       " [1670325326647, 326432562188.0742]]"
      ]
     },
     "execution_count": 63,
     "metadata": {},
     "output_type": "execute_result"
    }
   ],
   "source": [
    "res.json()['market_caps'][:5]\n"
   ]
  },
  {
   "cell_type": "code",
   "execution_count": 64,
   "id": "dc0f03fe",
   "metadata": {},
   "outputs": [
    {
     "data": {
      "text/html": [
       "<div>\n",
       "<style scoped>\n",
       "    .dataframe tbody tr th:only-of-type {\n",
       "        vertical-align: middle;\n",
       "    }\n",
       "\n",
       "    .dataframe tbody tr th {\n",
       "        vertical-align: top;\n",
       "    }\n",
       "\n",
       "    .dataframe thead th {\n",
       "        text-align: right;\n",
       "    }\n",
       "</style>\n",
       "<table border=\"1\" class=\"dataframe\">\n",
       "  <thead>\n",
       "    <tr style=\"text-align: right;\">\n",
       "      <th></th>\n",
       "      <th>prices</th>\n",
       "      <th>market_caps</th>\n",
       "      <th>total_volumes</th>\n",
       "    </tr>\n",
       "  </thead>\n",
       "  <tbody>\n",
       "    <tr>\n",
       "      <th>0</th>\n",
       "      <td>[1670324090269, 16986.019293674282]</td>\n",
       "      <td>[1670324090269, 326192771564.71124]</td>\n",
       "      <td>[1670324090269, 20048559318.27566]</td>\n",
       "    </tr>\n",
       "    <tr>\n",
       "      <th>1</th>\n",
       "      <td>[1670324434432, 16978.75133721155]</td>\n",
       "      <td>[1670324434432, 326429201661.85944]</td>\n",
       "      <td>[1670324434432, 19969698265.79511]</td>\n",
       "    </tr>\n",
       "    <tr>\n",
       "      <th>2</th>\n",
       "      <td>[1670324693501, 16979.63869357469]</td>\n",
       "      <td>[1670324693501, 326429201661.85944]</td>\n",
       "      <td>[1670324693501, 19915161997.561058]</td>\n",
       "    </tr>\n",
       "    <tr>\n",
       "      <th>3</th>\n",
       "      <td>[1670325003113, 16978.836420136133]</td>\n",
       "      <td>[1670325003113, 326432562188.0742]</td>\n",
       "      <td>[1670325003113, 20019493812.706673]</td>\n",
       "    </tr>\n",
       "    <tr>\n",
       "      <th>4</th>\n",
       "      <td>[1670325326647, 16957.571688344502]</td>\n",
       "      <td>[1670325326647, 326432562188.0742]</td>\n",
       "      <td>[1670325326647, 20020911389.918606]</td>\n",
       "    </tr>\n",
       "  </tbody>\n",
       "</table>\n",
       "</div>"
      ],
      "text/plain": [
       "                                prices                          market_caps  \\\n",
       "0  [1670324090269, 16986.019293674282]  [1670324090269, 326192771564.71124]   \n",
       "1   [1670324434432, 16978.75133721155]  [1670324434432, 326429201661.85944]   \n",
       "2   [1670324693501, 16979.63869357469]  [1670324693501, 326429201661.85944]   \n",
       "3  [1670325003113, 16978.836420136133]   [1670325003113, 326432562188.0742]   \n",
       "4  [1670325326647, 16957.571688344502]   [1670325326647, 326432562188.0742]   \n",
       "\n",
       "                         total_volumes  \n",
       "0   [1670324090269, 20048559318.27566]  \n",
       "1   [1670324434432, 19969698265.79511]  \n",
       "2  [1670324693501, 19915161997.561058]  \n",
       "3  [1670325003113, 20019493812.706673]  \n",
       "4  [1670325326647, 20020911389.918606]  "
      ]
     },
     "execution_count": 64,
     "metadata": {},
     "output_type": "execute_result"
    }
   ],
   "source": [
    "\n",
    "df = pd.DataFrame(data)\n",
    "\n",
    "df.head()"
   ]
  },
  {
   "cell_type": "code",
   "execution_count": 65,
   "id": "548bf880",
   "metadata": {},
   "outputs": [
    {
     "data": {
      "text/plain": [
       "0      1670324090269\n",
       "1      1670324434432\n",
       "2      1670324693501\n",
       "3      1670325003113\n",
       "4      1670325326647\n",
       "           ...      \n",
       "283    1670409009115\n",
       "284    1670409339487\n",
       "285    1670409593892\n",
       "286    1670409895867\n",
       "287    1670410312000\n",
       "Name: prices, Length: 288, dtype: int64"
      ]
     },
     "execution_count": 65,
     "metadata": {},
     "output_type": "execute_result"
    }
   ],
   "source": [
    "\n",
    "df['prices'].apply(lambda x :x[0])"
   ]
  },
  {
   "cell_type": "code",
   "execution_count": 66,
   "id": "2b94476d",
   "metadata": {},
   "outputs": [],
   "source": [
    "df['timestamp']=df['prices'].apply(lambda x:x[0])"
   ]
  },
  {
   "cell_type": "code",
   "execution_count": 67,
   "id": "d69bd181",
   "metadata": {},
   "outputs": [
    {
     "data": {
      "text/html": [
       "<div>\n",
       "<style scoped>\n",
       "    .dataframe tbody tr th:only-of-type {\n",
       "        vertical-align: middle;\n",
       "    }\n",
       "\n",
       "    .dataframe tbody tr th {\n",
       "        vertical-align: top;\n",
       "    }\n",
       "\n",
       "    .dataframe thead th {\n",
       "        text-align: right;\n",
       "    }\n",
       "</style>\n",
       "<table border=\"1\" class=\"dataframe\">\n",
       "  <thead>\n",
       "    <tr style=\"text-align: right;\">\n",
       "      <th></th>\n",
       "      <th>prices</th>\n",
       "      <th>market_caps</th>\n",
       "      <th>total_volumes</th>\n",
       "      <th>timestamp</th>\n",
       "    </tr>\n",
       "  </thead>\n",
       "  <tbody>\n",
       "    <tr>\n",
       "      <th>0</th>\n",
       "      <td>[1670324090269, 16986.019293674282]</td>\n",
       "      <td>[1670324090269, 326192771564.71124]</td>\n",
       "      <td>[1670324090269, 20048559318.27566]</td>\n",
       "      <td>1670324090269</td>\n",
       "    </tr>\n",
       "    <tr>\n",
       "      <th>1</th>\n",
       "      <td>[1670324434432, 16978.75133721155]</td>\n",
       "      <td>[1670324434432, 326429201661.85944]</td>\n",
       "      <td>[1670324434432, 19969698265.79511]</td>\n",
       "      <td>1670324434432</td>\n",
       "    </tr>\n",
       "    <tr>\n",
       "      <th>2</th>\n",
       "      <td>[1670324693501, 16979.63869357469]</td>\n",
       "      <td>[1670324693501, 326429201661.85944]</td>\n",
       "      <td>[1670324693501, 19915161997.561058]</td>\n",
       "      <td>1670324693501</td>\n",
       "    </tr>\n",
       "    <tr>\n",
       "      <th>3</th>\n",
       "      <td>[1670325003113, 16978.836420136133]</td>\n",
       "      <td>[1670325003113, 326432562188.0742]</td>\n",
       "      <td>[1670325003113, 20019493812.706673]</td>\n",
       "      <td>1670325003113</td>\n",
       "    </tr>\n",
       "    <tr>\n",
       "      <th>4</th>\n",
       "      <td>[1670325326647, 16957.571688344502]</td>\n",
       "      <td>[1670325326647, 326432562188.0742]</td>\n",
       "      <td>[1670325326647, 20020911389.918606]</td>\n",
       "      <td>1670325326647</td>\n",
       "    </tr>\n",
       "  </tbody>\n",
       "</table>\n",
       "</div>"
      ],
      "text/plain": [
       "                                prices                          market_caps  \\\n",
       "0  [1670324090269, 16986.019293674282]  [1670324090269, 326192771564.71124]   \n",
       "1   [1670324434432, 16978.75133721155]  [1670324434432, 326429201661.85944]   \n",
       "2   [1670324693501, 16979.63869357469]  [1670324693501, 326429201661.85944]   \n",
       "3  [1670325003113, 16978.836420136133]   [1670325003113, 326432562188.0742]   \n",
       "4  [1670325326647, 16957.571688344502]   [1670325326647, 326432562188.0742]   \n",
       "\n",
       "                         total_volumes      timestamp  \n",
       "0   [1670324090269, 20048559318.27566]  1670324090269  \n",
       "1   [1670324434432, 19969698265.79511]  1670324434432  \n",
       "2  [1670324693501, 19915161997.561058]  1670324693501  \n",
       "3  [1670325003113, 20019493812.706673]  1670325003113  \n",
       "4  [1670325326647, 20020911389.918606]  1670325326647  "
      ]
     },
     "execution_count": 67,
     "metadata": {},
     "output_type": "execute_result"
    }
   ],
   "source": [
    "df.head()"
   ]
  },
  {
   "cell_type": "code",
   "execution_count": 68,
   "id": "d0e4cb2e",
   "metadata": {},
   "outputs": [
    {
     "data": {
      "text/html": [
       "<div>\n",
       "<style scoped>\n",
       "    .dataframe tbody tr th:only-of-type {\n",
       "        vertical-align: middle;\n",
       "    }\n",
       "\n",
       "    .dataframe tbody tr th {\n",
       "        vertical-align: top;\n",
       "    }\n",
       "\n",
       "    .dataframe thead th {\n",
       "        text-align: right;\n",
       "    }\n",
       "</style>\n",
       "<table border=\"1\" class=\"dataframe\">\n",
       "  <thead>\n",
       "    <tr style=\"text-align: right;\">\n",
       "      <th></th>\n",
       "      <th>prices</th>\n",
       "      <th>market_caps</th>\n",
       "      <th>total_volumes</th>\n",
       "      <th>timestamp</th>\n",
       "    </tr>\n",
       "  </thead>\n",
       "  <tbody>\n",
       "    <tr>\n",
       "      <th>0</th>\n",
       "      <td>16986.019294</td>\n",
       "      <td>3.261928e+11</td>\n",
       "      <td>2.004856e+10</td>\n",
       "      <td>1670324090269</td>\n",
       "    </tr>\n",
       "    <tr>\n",
       "      <th>1</th>\n",
       "      <td>16978.751337</td>\n",
       "      <td>3.264292e+11</td>\n",
       "      <td>1.996970e+10</td>\n",
       "      <td>1670324434432</td>\n",
       "    </tr>\n",
       "    <tr>\n",
       "      <th>2</th>\n",
       "      <td>16979.638694</td>\n",
       "      <td>3.264292e+11</td>\n",
       "      <td>1.991516e+10</td>\n",
       "      <td>1670324693501</td>\n",
       "    </tr>\n",
       "    <tr>\n",
       "      <th>3</th>\n",
       "      <td>16978.836420</td>\n",
       "      <td>3.264326e+11</td>\n",
       "      <td>2.001949e+10</td>\n",
       "      <td>1670325003113</td>\n",
       "    </tr>\n",
       "    <tr>\n",
       "      <th>4</th>\n",
       "      <td>16957.571688</td>\n",
       "      <td>3.264326e+11</td>\n",
       "      <td>2.002091e+10</td>\n",
       "      <td>1670325326647</td>\n",
       "    </tr>\n",
       "  </tbody>\n",
       "</table>\n",
       "</div>"
      ],
      "text/plain": [
       "         prices   market_caps  total_volumes      timestamp\n",
       "0  16986.019294  3.261928e+11   2.004856e+10  1670324090269\n",
       "1  16978.751337  3.264292e+11   1.996970e+10  1670324434432\n",
       "2  16979.638694  3.264292e+11   1.991516e+10  1670324693501\n",
       "3  16978.836420  3.264326e+11   2.001949e+10  1670325003113\n",
       "4  16957.571688  3.264326e+11   2.002091e+10  1670325326647"
      ]
     },
     "execution_count": 68,
     "metadata": {},
     "output_type": "execute_result"
    }
   ],
   "source": [
    "\n",
    "df['prices'] = df['prices'].apply(lambda x : x[1])\n",
    "df['market_caps'] = df['market_caps'].apply(lambda x : x[1])\n",
    "df['total_volumes'] = df['total_volumes'].apply(lambda x : x[1])\n",
    "df.head()"
   ]
  },
  {
   "cell_type": "code",
   "execution_count": 69,
   "id": "f868151a",
   "metadata": {},
   "outputs": [
    {
     "data": {
      "text/html": [
       "<div>\n",
       "<style scoped>\n",
       "    .dataframe tbody tr th:only-of-type {\n",
       "        vertical-align: middle;\n",
       "    }\n",
       "\n",
       "    .dataframe tbody tr th {\n",
       "        vertical-align: top;\n",
       "    }\n",
       "\n",
       "    .dataframe thead th {\n",
       "        text-align: right;\n",
       "    }\n",
       "</style>\n",
       "<table border=\"1\" class=\"dataframe\">\n",
       "  <thead>\n",
       "    <tr style=\"text-align: right;\">\n",
       "      <th></th>\n",
       "      <th>timestamp</th>\n",
       "      <th>prices</th>\n",
       "      <th>market_caps</th>\n",
       "      <th>total_volumes</th>\n",
       "    </tr>\n",
       "  </thead>\n",
       "  <tbody>\n",
       "    <tr>\n",
       "      <th>0</th>\n",
       "      <td>1670324090269</td>\n",
       "      <td>16986.019294</td>\n",
       "      <td>3.261928e+11</td>\n",
       "      <td>2.004856e+10</td>\n",
       "    </tr>\n",
       "    <tr>\n",
       "      <th>1</th>\n",
       "      <td>1670324434432</td>\n",
       "      <td>16978.751337</td>\n",
       "      <td>3.264292e+11</td>\n",
       "      <td>1.996970e+10</td>\n",
       "    </tr>\n",
       "    <tr>\n",
       "      <th>2</th>\n",
       "      <td>1670324693501</td>\n",
       "      <td>16979.638694</td>\n",
       "      <td>3.264292e+11</td>\n",
       "      <td>1.991516e+10</td>\n",
       "    </tr>\n",
       "    <tr>\n",
       "      <th>3</th>\n",
       "      <td>1670325003113</td>\n",
       "      <td>16978.836420</td>\n",
       "      <td>3.264326e+11</td>\n",
       "      <td>2.001949e+10</td>\n",
       "    </tr>\n",
       "    <tr>\n",
       "      <th>4</th>\n",
       "      <td>1670325326647</td>\n",
       "      <td>16957.571688</td>\n",
       "      <td>3.264326e+11</td>\n",
       "      <td>2.002091e+10</td>\n",
       "    </tr>\n",
       "  </tbody>\n",
       "</table>\n",
       "</div>"
      ],
      "text/plain": [
       "       timestamp        prices   market_caps  total_volumes\n",
       "0  1670324090269  16986.019294  3.261928e+11   2.004856e+10\n",
       "1  1670324434432  16978.751337  3.264292e+11   1.996970e+10\n",
       "2  1670324693501  16979.638694  3.264292e+11   1.991516e+10\n",
       "3  1670325003113  16978.836420  3.264326e+11   2.001949e+10\n",
       "4  1670325326647  16957.571688  3.264326e+11   2.002091e+10"
      ]
     },
     "execution_count": 69,
     "metadata": {},
     "output_type": "execute_result"
    }
   ],
   "source": [
    "df = df[['timestamp', 'prices', 'market_caps', 'total_volumes']]\n",
    "\n",
    "df.head()"
   ]
  },
  {
   "cell_type": "code",
   "execution_count": 70,
   "id": "09cd4463",
   "metadata": {},
   "outputs": [
    {
     "data": {
      "text/html": [
       "<div>\n",
       "<style scoped>\n",
       "    .dataframe tbody tr th:only-of-type {\n",
       "        vertical-align: middle;\n",
       "    }\n",
       "\n",
       "    .dataframe tbody tr th {\n",
       "        vertical-align: top;\n",
       "    }\n",
       "\n",
       "    .dataframe thead th {\n",
       "        text-align: right;\n",
       "    }\n",
       "</style>\n",
       "<table border=\"1\" class=\"dataframe\">\n",
       "  <thead>\n",
       "    <tr style=\"text-align: right;\">\n",
       "      <th></th>\n",
       "      <th>timestamp</th>\n",
       "      <th>prices</th>\n",
       "      <th>market_caps</th>\n",
       "      <th>total_volumes</th>\n",
       "    </tr>\n",
       "  </thead>\n",
       "  <tbody>\n",
       "    <tr>\n",
       "      <th>count</th>\n",
       "      <td>2.880000e+02</td>\n",
       "      <td>288.000000</td>\n",
       "      <td>2.880000e+02</td>\n",
       "      <td>2.880000e+02</td>\n",
       "    </tr>\n",
       "    <tr>\n",
       "      <th>mean</th>\n",
       "      <td>1.670367e+12</td>\n",
       "      <td>16976.289730</td>\n",
       "      <td>3.264172e+11</td>\n",
       "      <td>2.067015e+10</td>\n",
       "    </tr>\n",
       "    <tr>\n",
       "      <th>std</th>\n",
       "      <td>2.498805e+07</td>\n",
       "      <td>82.946836</td>\n",
       "      <td>1.568865e+09</td>\n",
       "      <td>1.130296e+09</td>\n",
       "    </tr>\n",
       "    <tr>\n",
       "      <th>min</th>\n",
       "      <td>1.670324e+12</td>\n",
       "      <td>16749.997313</td>\n",
       "      <td>3.220867e+11</td>\n",
       "      <td>1.217099e+10</td>\n",
       "    </tr>\n",
       "    <tr>\n",
       "      <th>25%</th>\n",
       "      <td>1.670346e+12</td>\n",
       "      <td>16962.796524</td>\n",
       "      <td>3.261909e+11</td>\n",
       "      <td>2.024935e+10</td>\n",
       "    </tr>\n",
       "    <tr>\n",
       "      <th>50%</th>\n",
       "      <td>1.670367e+12</td>\n",
       "      <td>16993.949380</td>\n",
       "      <td>3.267203e+11</td>\n",
       "      <td>2.045920e+10</td>\n",
       "    </tr>\n",
       "    <tr>\n",
       "      <th>75%</th>\n",
       "      <td>1.670389e+12</td>\n",
       "      <td>17026.499880</td>\n",
       "      <td>3.273336e+11</td>\n",
       "      <td>2.097600e+10</td>\n",
       "    </tr>\n",
       "    <tr>\n",
       "      <th>max</th>\n",
       "      <td>1.670410e+12</td>\n",
       "      <td>17114.687636</td>\n",
       "      <td>3.290383e+11</td>\n",
       "      <td>2.309864e+10</td>\n",
       "    </tr>\n",
       "  </tbody>\n",
       "</table>\n",
       "</div>"
      ],
      "text/plain": [
       "          timestamp        prices   market_caps  total_volumes\n",
       "count  2.880000e+02    288.000000  2.880000e+02   2.880000e+02\n",
       "mean   1.670367e+12  16976.289730  3.264172e+11   2.067015e+10\n",
       "std    2.498805e+07     82.946836  1.568865e+09   1.130296e+09\n",
       "min    1.670324e+12  16749.997313  3.220867e+11   1.217099e+10\n",
       "25%    1.670346e+12  16962.796524  3.261909e+11   2.024935e+10\n",
       "50%    1.670367e+12  16993.949380  3.267203e+11   2.045920e+10\n",
       "75%    1.670389e+12  17026.499880  3.273336e+11   2.097600e+10\n",
       "max    1.670410e+12  17114.687636  3.290383e+11   2.309864e+10"
      ]
     },
     "execution_count": 70,
     "metadata": {},
     "output_type": "execute_result"
    }
   ],
   "source": [
    "df.describe()"
   ]
  },
  {
   "cell_type": "code",
   "execution_count": 71,
   "id": "3bb91311",
   "metadata": {},
   "outputs": [
    {
     "name": "stdout",
     "output_type": "stream",
     "text": [
      "<class 'pandas.core.frame.DataFrame'>\n",
      "RangeIndex: 288 entries, 0 to 287\n",
      "Data columns (total 4 columns):\n",
      " #   Column         Non-Null Count  Dtype  \n",
      "---  ------         --------------  -----  \n",
      " 0   timestamp      288 non-null    int64  \n",
      " 1   prices         288 non-null    float64\n",
      " 2   market_caps    288 non-null    float64\n",
      " 3   total_volumes  288 non-null    float64\n",
      "dtypes: float64(3), int64(1)\n",
      "memory usage: 9.1 KB\n"
     ]
    }
   ],
   "source": [
    "df.info()"
   ]
  },
  {
   "cell_type": "code",
   "execution_count": 72,
   "id": "22ef2a69",
   "metadata": {},
   "outputs": [
    {
     "data": {
      "text/plain": [
       "0     1970-01-01 00:27:50.324090269\n",
       "1     1970-01-01 00:27:50.324434432\n",
       "2     1970-01-01 00:27:50.324693501\n",
       "3     1970-01-01 00:27:50.325003113\n",
       "4     1970-01-01 00:27:50.325326647\n",
       "                   ...             \n",
       "283   1970-01-01 00:27:50.409009115\n",
       "284   1970-01-01 00:27:50.409339487\n",
       "285   1970-01-01 00:27:50.409593892\n",
       "286   1970-01-01 00:27:50.409895867\n",
       "287   1970-01-01 00:27:50.410312000\n",
       "Name: timestamp, Length: 288, dtype: datetime64[ns]"
      ]
     },
     "execution_count": 72,
     "metadata": {},
     "output_type": "execute_result"
    }
   ],
   "source": [
    "pd.to_datetime(df['timestamp'])"
   ]
  },
  {
   "cell_type": "code",
   "execution_count": 73,
   "id": "59c06ad4",
   "metadata": {},
   "outputs": [
    {
     "data": {
      "text/plain": [
       "0     1970-01-01 00:27:50.324090269\n",
       "1     1970-01-01 00:27:50.324434432\n",
       "2     1970-01-01 00:27:50.324693501\n",
       "3     1970-01-01 00:27:50.325003113\n",
       "4     1970-01-01 00:27:50.325326647\n",
       "                   ...             \n",
       "283   1970-01-01 00:27:50.409009115\n",
       "284   1970-01-01 00:27:50.409339487\n",
       "285   1970-01-01 00:27:50.409593892\n",
       "286   1970-01-01 00:27:50.409895867\n",
       "287   1970-01-01 00:27:50.410312000\n",
       "Name: timestamp, Length: 288, dtype: datetime64[ns]"
      ]
     },
     "execution_count": 73,
     "metadata": {},
     "output_type": "execute_result"
    }
   ],
   "source": [
    "pd.to_datetime(df['timestamp'],unit='ns')"
   ]
  },
  {
   "cell_type": "code",
   "execution_count": 74,
   "id": "eb2e1b42",
   "metadata": {},
   "outputs": [
    {
     "data": {
      "text/plain": [
       "0     2022-12-06 10:54:50.269\n",
       "1     2022-12-06 11:00:34.432\n",
       "2     2022-12-06 11:04:53.501\n",
       "3     2022-12-06 11:10:03.113\n",
       "4     2022-12-06 11:15:26.647\n",
       "                ...          \n",
       "283   2022-12-07 10:30:09.115\n",
       "284   2022-12-07 10:35:39.487\n",
       "285   2022-12-07 10:39:53.892\n",
       "286   2022-12-07 10:44:55.867\n",
       "287   2022-12-07 10:51:52.000\n",
       "Name: timestamp, Length: 288, dtype: datetime64[ns]"
      ]
     },
     "execution_count": 74,
     "metadata": {},
     "output_type": "execute_result"
    }
   ],
   "source": [
    "pd.to_datetime(df['timestamp'], unit='ms')\n"
   ]
  },
  {
   "cell_type": "code",
   "execution_count": 75,
   "id": "21553d67",
   "metadata": {},
   "outputs": [
    {
     "data": {
      "text/html": [
       "<div>\n",
       "<style scoped>\n",
       "    .dataframe tbody tr th:only-of-type {\n",
       "        vertical-align: middle;\n",
       "    }\n",
       "\n",
       "    .dataframe tbody tr th {\n",
       "        vertical-align: top;\n",
       "    }\n",
       "\n",
       "    .dataframe thead th {\n",
       "        text-align: right;\n",
       "    }\n",
       "</style>\n",
       "<table border=\"1\" class=\"dataframe\">\n",
       "  <thead>\n",
       "    <tr style=\"text-align: right;\">\n",
       "      <th></th>\n",
       "      <th>timestamp</th>\n",
       "      <th>prices</th>\n",
       "      <th>market_caps</th>\n",
       "      <th>total_volumes</th>\n",
       "    </tr>\n",
       "  </thead>\n",
       "  <tbody>\n",
       "    <tr>\n",
       "      <th>0</th>\n",
       "      <td>2022-12-06 10:54:50.269</td>\n",
       "      <td>16986.019294</td>\n",
       "      <td>3.261928e+11</td>\n",
       "      <td>2.004856e+10</td>\n",
       "    </tr>\n",
       "    <tr>\n",
       "      <th>1</th>\n",
       "      <td>2022-12-06 11:00:34.432</td>\n",
       "      <td>16978.751337</td>\n",
       "      <td>3.264292e+11</td>\n",
       "      <td>1.996970e+10</td>\n",
       "    </tr>\n",
       "    <tr>\n",
       "      <th>2</th>\n",
       "      <td>2022-12-06 11:04:53.501</td>\n",
       "      <td>16979.638694</td>\n",
       "      <td>3.264292e+11</td>\n",
       "      <td>1.991516e+10</td>\n",
       "    </tr>\n",
       "    <tr>\n",
       "      <th>3</th>\n",
       "      <td>2022-12-06 11:10:03.113</td>\n",
       "      <td>16978.836420</td>\n",
       "      <td>3.264326e+11</td>\n",
       "      <td>2.001949e+10</td>\n",
       "    </tr>\n",
       "    <tr>\n",
       "      <th>4</th>\n",
       "      <td>2022-12-06 11:15:26.647</td>\n",
       "      <td>16957.571688</td>\n",
       "      <td>3.264326e+11</td>\n",
       "      <td>2.002091e+10</td>\n",
       "    </tr>\n",
       "  </tbody>\n",
       "</table>\n",
       "</div>"
      ],
      "text/plain": [
       "                timestamp        prices   market_caps  total_volumes\n",
       "0 2022-12-06 10:54:50.269  16986.019294  3.261928e+11   2.004856e+10\n",
       "1 2022-12-06 11:00:34.432  16978.751337  3.264292e+11   1.996970e+10\n",
       "2 2022-12-06 11:04:53.501  16979.638694  3.264292e+11   1.991516e+10\n",
       "3 2022-12-06 11:10:03.113  16978.836420  3.264326e+11   2.001949e+10\n",
       "4 2022-12-06 11:15:26.647  16957.571688  3.264326e+11   2.002091e+10"
      ]
     },
     "execution_count": 75,
     "metadata": {},
     "output_type": "execute_result"
    }
   ],
   "source": [
    "df['timestamp'] = pd.to_datetime(df['timestamp'], unit='ms')\n",
    "df.head()"
   ]
  },
  {
   "cell_type": "code",
   "execution_count": 76,
   "id": "9a10f12f",
   "metadata": {},
   "outputs": [
    {
     "name": "stdout",
     "output_type": "stream",
     "text": [
      "<class 'pandas.core.frame.DataFrame'>\n",
      "RangeIndex: 288 entries, 0 to 287\n",
      "Data columns (total 4 columns):\n",
      " #   Column         Non-Null Count  Dtype         \n",
      "---  ------         --------------  -----         \n",
      " 0   timestamp      288 non-null    datetime64[ns]\n",
      " 1   prices         288 non-null    float64       \n",
      " 2   market_caps    288 non-null    float64       \n",
      " 3   total_volumes  288 non-null    float64       \n",
      "dtypes: datetime64[ns](1), float64(3)\n",
      "memory usage: 9.1 KB\n"
     ]
    }
   ],
   "source": [
    "df.info()"
   ]
  },
  {
   "cell_type": "code",
   "execution_count": 77,
   "id": "d7dbe736",
   "metadata": {},
   "outputs": [
    {
     "data": {
      "text/plain": [
       "Timestamp('2022-12-07 10:51:52')"
      ]
     },
     "execution_count": 77,
     "metadata": {},
     "output_type": "execute_result"
    }
   ],
   "source": [
    "df['timestamp'].max()"
   ]
  },
  {
   "cell_type": "code",
   "execution_count": 78,
   "id": "acd8ed14",
   "metadata": {},
   "outputs": [
    {
     "data": {
      "text/html": [
       "<div>\n",
       "<style scoped>\n",
       "    .dataframe tbody tr th:only-of-type {\n",
       "        vertical-align: middle;\n",
       "    }\n",
       "\n",
       "    .dataframe tbody tr th {\n",
       "        vertical-align: top;\n",
       "    }\n",
       "\n",
       "    .dataframe thead th {\n",
       "        text-align: right;\n",
       "    }\n",
       "</style>\n",
       "<table border=\"1\" class=\"dataframe\">\n",
       "  <thead>\n",
       "    <tr style=\"text-align: right;\">\n",
       "      <th></th>\n",
       "      <th>prices</th>\n",
       "      <th>market_caps</th>\n",
       "      <th>total_volumes</th>\n",
       "    </tr>\n",
       "  </thead>\n",
       "  <tbody>\n",
       "    <tr>\n",
       "      <th>count</th>\n",
       "      <td>288.000000</td>\n",
       "      <td>2.880000e+02</td>\n",
       "      <td>2.880000e+02</td>\n",
       "    </tr>\n",
       "    <tr>\n",
       "      <th>mean</th>\n",
       "      <td>16976.289730</td>\n",
       "      <td>3.264172e+11</td>\n",
       "      <td>2.067015e+10</td>\n",
       "    </tr>\n",
       "    <tr>\n",
       "      <th>std</th>\n",
       "      <td>82.946836</td>\n",
       "      <td>1.568865e+09</td>\n",
       "      <td>1.130296e+09</td>\n",
       "    </tr>\n",
       "    <tr>\n",
       "      <th>min</th>\n",
       "      <td>16749.997313</td>\n",
       "      <td>3.220867e+11</td>\n",
       "      <td>1.217099e+10</td>\n",
       "    </tr>\n",
       "    <tr>\n",
       "      <th>25%</th>\n",
       "      <td>16962.796524</td>\n",
       "      <td>3.261909e+11</td>\n",
       "      <td>2.024935e+10</td>\n",
       "    </tr>\n",
       "    <tr>\n",
       "      <th>50%</th>\n",
       "      <td>16993.949380</td>\n",
       "      <td>3.267203e+11</td>\n",
       "      <td>2.045920e+10</td>\n",
       "    </tr>\n",
       "    <tr>\n",
       "      <th>75%</th>\n",
       "      <td>17026.499880</td>\n",
       "      <td>3.273336e+11</td>\n",
       "      <td>2.097600e+10</td>\n",
       "    </tr>\n",
       "    <tr>\n",
       "      <th>max</th>\n",
       "      <td>17114.687636</td>\n",
       "      <td>3.290383e+11</td>\n",
       "      <td>2.309864e+10</td>\n",
       "    </tr>\n",
       "  </tbody>\n",
       "</table>\n",
       "</div>"
      ],
      "text/plain": [
       "             prices   market_caps  total_volumes\n",
       "count    288.000000  2.880000e+02   2.880000e+02\n",
       "mean   16976.289730  3.264172e+11   2.067015e+10\n",
       "std       82.946836  1.568865e+09   1.130296e+09\n",
       "min    16749.997313  3.220867e+11   1.217099e+10\n",
       "25%    16962.796524  3.261909e+11   2.024935e+10\n",
       "50%    16993.949380  3.267203e+11   2.045920e+10\n",
       "75%    17026.499880  3.273336e+11   2.097600e+10\n",
       "max    17114.687636  3.290383e+11   2.309864e+10"
      ]
     },
     "execution_count": 78,
     "metadata": {},
     "output_type": "execute_result"
    }
   ],
   "source": [
    "df.describe()\n"
   ]
  },
  {
   "cell_type": "code",
   "execution_count": 79,
   "id": "ac042222",
   "metadata": {},
   "outputs": [],
   "source": [
    "import matplotlib.pyplot as plt\n",
    "import seaborn as sns"
   ]
  },
  {
   "cell_type": "code",
   "execution_count": 80,
   "id": "a6fe1593",
   "metadata": {},
   "outputs": [
    {
     "data": {
      "text/plain": [
       "<function matplotlib.pyplot.legend(*args, **kwargs)>"
      ]
     },
     "execution_count": 80,
     "metadata": {},
     "output_type": "execute_result"
    },
    {
     "data": {
      "image/png": "[encoded data removed]",
      "text/plain": [
       "<Figure size 864x432 with 1 Axes>"
      ]
     },
     "metadata": {
      "needs_background": "light"
     },
     "output_type": "display_data"
    }
   ],
   "source": [
    "plt.figure(figsize=(12,6))\n",
    "sns.lineplot(x='timestamp',y='prices',data=df,color='green')\n",
    "plt.xticks(rotation=45)\n",
    "plt.legend"
   ]
  },
  {
   "cell_type": "code",
   "execution_count": null,
   "id": "281f35c7",
   "metadata": {},
   "outputs": [],
   "source": []
  },
  {
   "cell_type": "code",
   "execution_count": null,
   "id": "c1100aad",
   "metadata": {},
   "outputs": [],
   "source": []
  },
  {
   "cell_type": "code",
   "execution_count": null,
   "id": "7d37f96f",
   "metadata": {},
   "outputs": [],
   "source": []
  },
  {
   "cell_type": "code",
   "execution_count": null,
   "id": "dcefc413",
   "metadata": {},
   "outputs": [],
   "source": []
  },
  {
   "cell_type": "code",
   "execution_count": null,
   "id": "54557979",
   "metadata": {},
   "outputs": [],
   "source": []
  }
 ],
 "metadata": {
  "kernelspec": {
   "display_name": "Python 3 (ipykernel)",
   "language": "python",
   "name": "python3"
  },
  "language_info": {
   "codemirror_mode": {
    "name": "ipython",
    "version": 3
   },
   "file_extension": ".py",
   "mimetype": "text/x-python",
   "name": "python",
   "nbconvert_exporter": "python",
   "pygments_lexer": "ipython3",
   "version": "3.9.13"
  }
 },
 "nbformat": 4,
 "nbformat_minor": 5
}
